{
 "cells": [
  {
   "cell_type": "code",
   "execution_count": 1,
   "id": "dc86203c-7212-4c9c-bd50-7b04b3362582",
   "metadata": {},
   "outputs": [
    {
     "name": "stdout",
     "output_type": "stream",
     "text": [
      "1 s\n"
     ]
    }
   ],
   "source": [
    "import time\n",
    "start1 = time.time()\n",
    "from demo2_utils import *\n",
    "from crowning2_utils import *\n",
    "import time\n",
    "\n",
    "def interchange_axes(array, axis1, axis2):\n",
    "    new_array = array.copy()\n",
    "    new_array[:, [axis1, axis2]] = new_array[:, [axis2, axis1]]\n",
    "    return new_array\n",
    "\n",
    "def get_vertical_position(bounds, point, toothlib):\n",
    "    lower_bound, upper_bound = bounds\n",
    "    normal = np.array([0, 1, 0])  # 'zx' normal\n",
    "    projected_point = np.array([point[0], 0, point[2]])\n",
    "    dot_product = np.dot(normal, projected_point)\n",
    "    toothlib_copy = toothlib.copy()\n",
    "    if dot_product >= np.dot(normal, lower_bound):\n",
    "        print('UPPER')\n",
    "        toothlib_copy.rotate_y(90, point=toothlib.center, inplace=True).rotate_x(15, point=toothlib.center, inplace=True)\n",
    "    else:\n",
    "        print('LOWER')\n",
    "        toothlib_copy.rotate_y(-90, point=toothlib.center, inplace=True).rotate_x(-15, point=toothlib.center, inplace=True)\n",
    "    return toothlib_copy\n",
    "\n",
    "def gen_move_coords(dst_coord, src_coord):\n",
    "    offset_val = 1\n",
    "    offset = np.array([0, offset_val, 0])\n",
    "    return (dst_coord + offset) - src_coord \n",
    "\n",
    "\n",
    "def get_horizontal_position(bounds, point, toothlib):\n",
    "    left_bound, right_bound = bounds\n",
    "    normal = np.array([0, 0, 1])  # 'zx' normal\n",
    "    projected_point = np.array([point[0], point[1], 0])\n",
    "    dot_product = np.dot(normal, projected_point)\n",
    "    toothlib_copy = toothlib.copy()\n",
    "    if dot_product >= np.dot(normal, left_bound):\n",
    "        # pass\n",
    "        print('LEFT')\n",
    "        # toothlib_copy.rotate_y(-90, point=toothlib_copy.center, inplace=True)\n",
    "        toothlib_copy.rotate_y(180, point=toothlib_copy.center, inplace=True)#.rotate_z(-20, point=toothlib.center, inplace=True)\n",
    "    else:\n",
    "        print('RIGHT')\n",
    "        # toothlib_copy.rotate_z(20, point=toothlib.center, inplace=True)\n",
    "        pass\n",
    "        \n",
    "        # toothlib_copy.rotate_y(180, point=toothlib_copy.center, inplace=True)\n",
    "    return toothlib_copy\n",
    "\n",
    "def callback2(point):\n",
    "    mesh = pv.Sphere(center=point, radius=0.009)\n",
    "    p1_.add_mesh(mesh, \n",
    "                 # style='wireframe', \n",
    "                 color='r',\n",
    "                line_width=20)\n",
    "    p1_.add_point_labels(point, [f\"{point[0]:.2f}, {point[1]:.2f}, {point[2]:.2f}\"])\n",
    "\n",
    "print(int(time.time()-start1),'s')\n",
    "udx_dirpath = '/Users/nimbyx/Projects/CROWNING/cases'"
   ]
  },
  {
   "cell_type": "code",
   "execution_count": 2,
   "id": "7d7bb47b-1290-44c7-9789-d31a9ebb4ffb",
   "metadata": {},
   "outputs": [
    {
     "name": "stdout",
     "output_type": "stream",
     "text": [
      "get_toothnum Exception: File is not a zip file\n",
      "To remove: /Users/nimbyx/Projects/CROWNING/cases/20230905113623089_2748284_W142B.zip\n",
      "get_toothnum Exception: File is not a zip file\n",
      "To remove: /Users/nimbyx/Projects/CROWNING/cases/.DS_Store\n",
      "Filtered cases: 55\n",
      "Total cases: 267\n",
      "98\n"
     ]
    }
   ],
   "source": [
    "start = time.time()\n",
    "target_path_list = []\n",
    "ct = 0\n",
    "for i,case in enumerate(os.listdir(udx_dirpath)):\n",
    "    ct += 1\n",
    "    case_path = os.path.join(udx_dirpath, case)\n",
    "    my_case_details = get_toothnum(case_path)\n",
    "    if not my_case_details:\n",
    "        print(f'To remove: {case_path}')\n",
    "        # os.remove(case_path)\n",
    "        continue\n",
    "    if my_case_details[1] in [30, 31,32]:\n",
    "    # if str(my_case_details[1]) == '1':\n",
    "        target_path_list.append(case_path)\n",
    "\n",
    "print(f'Filtered cases: {len(target_path_list)}\\nTotal cases: {len(os.listdir(udx_dirpath))}')\n",
    "print(f'{int(time.time()-start)}')"
   ]
  },
  {
   "cell_type": "code",
   "execution_count": 8,
   "id": "f0ea2fcb-3d53-45c4-8416-8b7fd6793524",
   "metadata": {},
   "outputs": [],
   "source": [
    "target_idx = 0"
   ]
  },
  {
   "cell_type": "code",
   "execution_count": null,
   "id": "b0d078f3-cfb3-4d36-96e5-37e0ce747da9",
   "metadata": {},
   "outputs": [],
   "source": []
  },
  {
   "cell_type": "code",
   "execution_count": 14,
   "id": "dc76f020-8031-492c-933a-a913ad05eac7",
   "metadata": {
    "jupyter": {
     "source_hidden": true
    }
   },
   "outputs": [
    {
     "name": "stdout",
     "output_type": "stream",
     "text": [
      "largest plane: 0\n",
      "LOWER\n"
     ]
    },
    {
     "data": {
      "application/vnd.jupyter.widget-view+json": {
       "model_id": "139476a03aeb4df7aa7c0373692966b9",
       "version_major": 2,
       "version_minor": 0
      },
      "text/plain": [
       "Widget(value=\"<iframe src='http://localhost:51193/index.html?ui=P_0x2911a8070_7&reconnect=auto' style='width: …"
      ]
     },
     "metadata": {},
     "output_type": "display_data"
    },
    {
     "name": "stdout",
     "output_type": "stream",
     "text": [
      "3 s\n"
     ]
    }
   ],
   "source": [
    "#PROCESS\n",
    "target_idx -= 1\n",
    "\n",
    "start1 = time.time()\n",
    "file_path = target_path_list[target_idx]\n",
    "mesh_prep_fname, mesh_prep_3m = load_prep_from_zip(file_path)\n",
    "mesh_anta_fname, mesh_anta_3m = load_anta_from_zip(file_path)\n",
    "mesh_big, mesh_small = get_two_largest_meshes_3m(mesh_prep_3m)\n",
    "my_case_details = get_toothnum(file_path)\n",
    "tooth_filepath = os.path.join(tooth_dirpath_ottawa, f\"{my_case_details[1]}.stl\")\n",
    "tooth_mesh = pv.read(tooth_filepath)\n",
    "tooth_desi = get_designer_tooth(file_path)\n",
    "\n",
    "# case when z plane is larger than x plane\n",
    "largest_plane = get_largest_axis_idx(mesh_prep_3m.bounds)\n",
    "print(f'largest plane: {largest_plane}')\n",
    "if largest_plane in [0,2]:\n",
    "    if largest_plane == 2:\n",
    "        tooth_mesh1 = get_horizontal_position(mesh_prep_3m.bounds, mesh_small.centroid, tooth_mesh)\n",
    "    elif largest_plane == 0:\n",
    "        tooth_mesh1 = get_vertical_position(mesh_prep_3m.bounds, mesh_small.centroid, tooth_mesh)\n",
    "    tooth_mesh2 = tooth_mesh1.scale(np.full(3, 1.20))\n",
    "    tooth_mesh3 = tooth_mesh2.translate(gen_move_coords(mesh_small.centroid, tooth_mesh2.center))\n",
    "    my_crown = tooth_mesh3.boolean_difference(pv.wrap(mesh_small))\n",
    "    \n",
    "    cam_pos = 'xy'\n",
    "    my_shape = (1,4)\n",
    "    p1_ = pv.Plotter(shape=my_shape)\n",
    "        \n",
    "    p1_.subplot(0,0) #1st plot\n",
    "    p1_.add_mesh(mesh_small)\n",
    "    p1_.add_mesh(mesh_big)\n",
    "    p1_.add_mesh(tooth_mesh3, \n",
    "                 color='w')\n",
    "    p1_.add_text(f'{my_case_details[0]}', position='lower_right', font_size=10)\n",
    "    p1_.camera_position=cam_pos\n",
    "    p1_.show_grid()\n",
    "\n",
    "    p1_.subplot(0,1) #2nd plot\n",
    "    p1_.add_mesh(pv.wrap(mesh_anta_3m), opacity=.8)\n",
    "    # p1_.add_mesh(tooth_mesh3.translate(gen_move_coords(tooth_mesh3.center-np.array([0,0,1]), tooth_mesh3.center)), color='w')\n",
    "    p1_.add_mesh(tooth_mesh3, color='w')\n",
    "    p1_.add_text(f'{my_case_details[1]}', position='upper_right')\n",
    "    p1_.add_text('antagonist', position='lower_right', font_size=10)\n",
    "    p1_.camera_position=cam_pos\n",
    "    \n",
    "    p1_.subplot(0,2) #3rd plot\n",
    "    p1_.add_mesh(my_crown, color='gold', opacity=.9)\n",
    "    # p1_.add_points(tooth_edges, color='red', line_width=10)\n",
    "    p1_.add_mesh(pv.wrap(mesh_small))\n",
    "    p1_.add_text('auto', position='lower_right', font_size=10)\n",
    "    # p1_.enable_surface_point_picking(callback=callback2, show_point=True)\n",
    "    p1_.show_grid()\n",
    "    p1_.camera_position=cam_pos\n",
    "\n",
    "    p1_.subplot(0,3) #4th plot\n",
    "    p1_.add_mesh(pv.wrap(mesh_small))\n",
    "    p1_.add_mesh(tooth_desi, color='gold', opacity=.9)\n",
    "    p1_.add_text('designer', position='lower_right', font_size=10)\n",
    "    p1_.show_grid()\n",
    "    p1_.camera_position=cam_pos\n",
    "\n",
    "    p1_.show()\n",
    "else:\n",
    "    print('y-plane largest')\n",
    "print(int(time.time()-start1), 's')"
   ]
  },
  {
   "cell_type": "markdown",
   "id": "cde2f9f9-d1a8-4a60-80e2-784ab62c6ef6",
   "metadata": {
    "jp-MarkdownHeadingCollapsed": true
   },
   "source": [
    "# WORKSPACE"
   ]
  },
  {
   "cell_type": "code",
   "execution_count": null,
   "id": "31be9078-0a98-4a3b-917d-5d9b1d1a2b7c",
   "metadata": {},
   "outputs": [],
   "source": []
  }
 ],
 "metadata": {
  "kernelspec": {
   "display_name": "Python 3 (ipykernel)",
   "language": "python",
   "name": "python3"
  },
  "language_info": {
   "codemirror_mode": {
    "name": "ipython",
    "version": 3
   },
   "file_extension": ".py",
   "mimetype": "text/x-python",
   "name": "python",
   "nbconvert_exporter": "python",
   "pygments_lexer": "ipython3",
   "version": "3.9.10"
  }
 },
 "nbformat": 4,
 "nbformat_minor": 5
}
