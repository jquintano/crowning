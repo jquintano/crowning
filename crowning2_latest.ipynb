{
 "cells": [
  {
   "cell_type": "code",
   "execution_count": 1,
   "id": "dc86203c-7212-4c9c-bd50-7b04b3362582",
   "metadata": {},
   "outputs": [
    {
     "name": "stdout",
     "output_type": "stream",
     "text": [
      "1 s\n"
     ]
    }
   ],
   "source": [
    "import time\n",
    "start1 = time.time()\n",
    "from demo2_utils import *\n",
    "from crowning2_utils import *\n",
    "import time\n",
    "print(int(time.time()-start1),'s')"
   ]
  },
  {
   "cell_type": "code",
   "execution_count": 2,
   "id": "7d7bb47b-1290-44c7-9789-d31a9ebb4ffb",
   "metadata": {},
   "outputs": [
    {
     "name": "stdout",
     "output_type": "stream",
     "text": [
      "get_toothnum Exception: File is not a zip file\n",
      "To remove: /Users/nimbyx/Projects/CROWNING/cases/20230905113623089_2748284_W142B.zip\n",
      "get_toothnum Exception: File is not a zip file\n",
      "To remove: /Users/nimbyx/Projects/CROWNING/cases/.DS_Store\n",
      "Total cases: 267\n",
      "Filtered cases: 55\n",
      "Runtime: 97s\n"
     ]
    }
   ],
   "source": [
    "# get 30,31,32 tooth num cases\n",
    "start = time.time()\n",
    "target_path_list = []\n",
    "ct = 0\n",
    "for i,case in enumerate(os.listdir(udx_dirpath)):\n",
    "    ct += 1\n",
    "    case_path = os.path.join(udx_dirpath, case)\n",
    "    my_case_details = get_toothnum(case_path)\n",
    "    if not my_case_details:\n",
    "        print(f'To remove: {case_path}')\n",
    "        # os.remove(case_path) \n",
    "        continue\n",
    "    if my_case_details[1] in [30, 31,32]:\n",
    "    # if str(my_case_details[1]) == '1':\n",
    "        target_path_list.append(case_path)\n",
    "\n",
    "print(f'Total cases: {len(os.listdir(udx_dirpath))}\\nFiltered cases: {len(target_path_list)}')\n",
    "print(f'Runtime: {int(time.time()-start)}s')\n",
    "target_idx = -1"
   ]
  },
  {
   "cell_type": "code",
   "execution_count": null,
   "id": "dc76f020-8031-492c-933a-a913ad05eac7",
   "metadata": {
    "jupyter": {
     "source_hidden": true
    },
    "scrolled": true
   },
   "outputs": [],
   "source": [
    "#PROCESS\n",
    "# target_idx += 1\n",
    "\n",
    "start1 = time.time()\n",
    "file_path = target_path_list[target_idx]\n",
    "mesh_prep_fname, mesh_prep_3m = load_prep_from_zip(file_path)\n",
    "mesh_anta_fname, mesh_anta_3m = load_anta_from_zip(file_path)\n",
    "mesh_big, mesh_small = get_two_largest_meshes_3m(mesh_prep_3m)\n",
    "my_case_details = get_toothnum(file_path)\n",
    "tooth_filepath = os.path.join(tooth_dirpath_ottawa, f\"{my_case_details[1]}.stl\")\n",
    "tooth_mesh = pv.read(tooth_filepath)\n",
    "tooth_desi = get_designer_tooth(file_path)\n",
    "\n",
    "# case when z plane is larger than x plane\n",
    "largest_plane = get_largest_axis_idx(mesh_prep_3m.bounds)\n",
    "print(f'largest plane: {largest_plane}')\n",
    "if largest_plane in [0,2]:\n",
    "    if largest_plane == 2:\n",
    "        tooth_mesh1 = get_horizontal_position(mesh_prep_3m.bounds, mesh_small.centroid, tooth_mesh)\n",
    "    elif largest_plane == 0:\n",
    "        tooth_mesh1 = get_vertical_position(mesh_prep_3m.bounds, mesh_small.centroid, tooth_mesh)\n",
    "    tooth_mesh2 = tooth_mesh1.scale(np.full(3, 1.20))\n",
    "    tooth_mesh3 = tooth_mesh2.translate(gen_move_coords(mesh_small.centroid, tooth_mesh2.center))\n",
    "    my_crown = tooth_mesh3.boolean_difference(pv.wrap(mesh_small))\n",
    "   \n",
    "    cam_pos = 'xy'\n",
    "    my_shape = (1,4)\n",
    "    p1_ = pv.Plotter(shape=my_shape)\n",
    "        \n",
    "    p1_.subplot(0,0) #1st plot\n",
    "    p1_.add_mesh(mesh_small)\n",
    "    p1_.add_mesh(mesh_big)\n",
    "    p1_.add_mesh(tooth_mesh3, \n",
    "                 color='gold')\n",
    "    p1_.add_text(f'{my_case_details[0]}', position='lower_right', font_size=10)\n",
    "    p1_.camera_position=cam_pos\n",
    "    p1_.show_grid()\n",
    "\n",
    "    p1_.subplot(0,1) #2nd plot\n",
    "    p1_.add_mesh(pv.wrap(mesh_anta_3m), opacity=.8)\n",
    "    # p1_.add_mesh(tooth_mesh3.translate(gen_move_coords(tooth_mesh3.center-np.array([0,0,1]), tooth_mesh3.center)), color='w')\n",
    "    p1_.add_mesh(tooth_mesh3, color='gold')\n",
    "    p1_.add_text(f'{my_case_details[1]}', position='upper_right')\n",
    "    p1_.add_text('antagonist', position='lower_right', font_size=10)\n",
    "    p1_.camera_position=cam_pos\n",
    "    \n",
    "    p1_.subplot(0,2) #3rd plot\n",
    "    # p1_.add_mesh(my_crown, color='gold', opacity=.9)\n",
    "    # p1_.add_points(tooth_edges, color='red', line_width=10)\n",
    "    p1_.add_mesh(pv.wrap(mesh_small))\n",
    "    p1_.add_text('auto', position='lower_right', font_size=10)\n",
    "    # p1_.enable_surface_point_picking(callback=callback2, show_point=True)\n",
    "    p1_.show_grid()\n",
    "    p1_.camera_position=cam_pos\n",
    "\n",
    "    p1_.subplot(0,3) #4th plot\n",
    "    p1_.add_mesh(pv.wrap(mesh_small))\n",
    "    p1_.add_mesh(tooth_desi, color='w', opacity=.9)\n",
    "    p1_.add_text('designer', position='lower_right', font_size=10)\n",
    "    p1_.show_grid()\n",
    "    p1_.camera_position=cam_pos\n",
    "\n",
    "    p1_.show()\n",
    "else:\n",
    "    print('y-plane largest')\n",
    "print(int(time.time()-start1), 's')"
   ]
  },
  {
   "cell_type": "code",
   "execution_count": 54,
   "id": "cb1058cd-7e0b-485e-b357-58076d68060c",
   "metadata": {},
   "outputs": [
    {
     "name": "stdout",
     "output_type": "stream",
     "text": [
      "largest plane: 0\n",
      "LOWER\n"
     ]
    },
    {
     "data": {
      "application/vnd.jupyter.widget-view+json": {
       "model_id": "d2c84fd614bc41a69b90046f435be854",
       "version_major": 2,
       "version_minor": 0
      },
      "text/plain": [
       "Widget(value=\"<iframe src='http://localhost:50218/index.html?ui=P_0x326adb2b0_42&reconnect=auto' style='width:…"
      ]
     },
     "metadata": {},
     "output_type": "display_data"
    },
    {
     "name": "stdout",
     "output_type": "stream",
     "text": [
      "1 s\n"
     ]
    }
   ],
   "source": [
    "#PROCESS v2\n",
    "# target_idx += 1\n",
    "\n",
    "start1 = time.time()\n",
    "file_path = target_path_list[target_idx]\n",
    "mesh_prep_fname, mesh_prep_3m = load_prep_from_zip(file_path)\n",
    "mesh_anta_fname, mesh_anta_3m = load_anta_from_zip(file_path)\n",
    "mesh_big, mesh_small = get_two_largest_meshes_3m(mesh_prep_3m)\n",
    "my_case_details = get_toothnum(file_path)\n",
    "tooth_filepath = os.path.join(tooth_dirpath_ottawa, f\"{my_case_details[1]}.stl\")\n",
    "tooth_mesh = pv.read(tooth_filepath)\n",
    "tooth_desi = get_designer_tooth(file_path)\n",
    "\n",
    "# get margin\n",
    "margin = pv.wrap(mesh_small).extract_feature_edges(5).connectivity().extract_largest()\n",
    "base_bot = pv.wrap(mesh_small).extract_feature_edges(90)\n",
    "if not margin:\n",
    "    print('Margin error')\n",
    "    \n",
    "elif base_bot.center == margin.center:\n",
    "    print('Unable to detect margin')\n",
    "    \n",
    "else:\n",
    "    # case when z plane is larger than x plane\n",
    "    largest_plane = get_largest_axis_idx(mesh_prep_3m.bounds)\n",
    "    print(f'largest plane: {largest_plane}')\n",
    "    if largest_plane in [0,2]:\n",
    "        if largest_plane == 2:\n",
    "            tooth_mesh1 = get_horizontal_position(mesh_prep_3m.bounds, mesh_small.centroid, tooth_mesh)\n",
    "        elif largest_plane == 0:\n",
    "            tooth_mesh1 = get_vertical_position(mesh_prep_3m.bounds, mesh_small.centroid, tooth_mesh)\n",
    "        # tooth_mesh1 = tooth_mesh1.rotate_z(-compute_angle2(mesh_small))\n",
    "        \n",
    "        tooth_mesh2 = tooth_mesh1.scale(np.full(3, 1.00))\n",
    "        # tooth_mesh3 = tooth_mesh2.translate(gen_move_coords(mesh_small.centroid, tooth_mesh2.center))\n",
    "        tooth_mesh3 = tooth_mesh2.translate(gen_move_coords(margin_center, tooth_mesh2.center))\n",
    "        my_crown = tooth_mesh3.boolean_difference(pv.wrap(mesh_small)).fill_holes(5)\n",
    "       \n",
    "        cam_pos = 'xy'\n",
    "        my_shape = (1,3)\n",
    "        p1_ = pv.Plotter(shape=my_shape)\n",
    "            \n",
    "        p1_.subplot(0,0) #1st plot\n",
    "        p1_.add_mesh(mesh_small)\n",
    "        p1_.add_mesh(mesh_big)\n",
    "        p1_.add_mesh(tooth_mesh3, \n",
    "                     color='gold')\n",
    "        p1_.add_text(f'{my_case_details[0]}', position='lower_right', font_size=10)\n",
    "        p1_.camera_position=cam_pos\n",
    "        p1_.show_grid()\n",
    "    \n",
    "        p1_.subplot(0,1) #2nd plot\n",
    "        p1_.add_mesh(pv.wrap(mesh_anta_3m), opacity=.8)\n",
    "        # p1_.add_mesh(tooth_mesh3.translate(gen_move_coords(tooth_mesh3.center-np.array([0,0,1]), tooth_mesh3.center)), color='w')\n",
    "        p1_.add_mesh(tooth_mesh3, color='gold')\n",
    "        p1_.add_text(f'{my_case_details[1]}', position='upper_right')\n",
    "        p1_.add_text('antagonist', position='lower_right', font_size=10)\n",
    "        p1_.camera_position=cam_pos\n",
    "        \n",
    "        p1_.subplot(0,2) #3rd plot\n",
    "        p1_.add_mesh(my_crown, color='gold')\n",
    "        # p1_.add_points(tooth_edges, color='red', line_width=10)\n",
    "        # p1_.add_mesh(pv.wrap(mesh_small))\n",
    "        p1_.add_text('auto', position='lower_right', font_size=10)\n",
    "        # p1_.enable_surface_point_picking(callback=callback2, show_point=True)\n",
    "        p1_.show_grid()\n",
    "        p1_.camera_position=cam_pos\n",
    "    \n",
    "        # p1_.subplot(0,3) #4th plot\n",
    "        # p1_.add_mesh(pv.wrap(mesh_small))\n",
    "        # p1_.add_mesh(tooth_desi, color='w', opacity=.9)\n",
    "        # p1_.add_text('designer', position='lower_right', font_size=10)\n",
    "        # p1_.show_grid()\n",
    "        # p1_.camera_position=cam_pos\n",
    "    \n",
    "        p1_.show()\n",
    "    else:\n",
    "        print('y-plane largest')\n",
    "    print(int(time.time()-start1), 's')"
   ]
  },
  {
   "cell_type": "code",
   "execution_count": 12,
   "id": "2b7bc2bc-5a0e-42a8-99e4-2368562ef222",
   "metadata": {},
   "outputs": [],
   "source": [
    "base_edges = pv.wrap(mesh_small).extract_feature_edges(90)"
   ]
  },
  {
   "cell_type": "code",
   "execution_count": 55,
   "id": "83cc2e37-1dec-44ae-be5a-87d825f39818",
   "metadata": {},
   "outputs": [
    {
     "data": {
      "application/vnd.jupyter.widget-view+json": {
       "model_id": "79a12540741146eaa57ba263febcd988",
       "version_major": 2,
       "version_minor": 0
      },
      "text/plain": [
       "Widget(value=\"<iframe src='http://localhost:50218/index.html?ui=P_0x3917340d0_43&reconnect=auto' style='width:…"
      ]
     },
     "metadata": {},
     "output_type": "display_data"
    }
   ],
   "source": [
    "p2 = pv.Plotter(shape=(1,2))\n",
    "p2.subplot(0,0)\n",
    "p2.add_mesh(my_crown.smooth(), color='gold')\n",
    "p2.show_grid()\n",
    "p2.camera_position=cam_pos\n",
    "\n",
    "p2.subplot(0,1)\n",
    "p2.add_mesh(pv.wrap(mesh_small).smooth(), color='pink')#, opacity=0.8)\n",
    "p2.add_points(np.array(margin_center), color='r', point_size=15, render_points_as_spheres=True)\n",
    "p2.show_grid()\n",
    "p2.camera_position=cam_pos\n",
    "\n",
    "p2.show()"
   ]
  },
  {
   "cell_type": "code",
   "execution_count": 38,
   "id": "6cd5a8be-7d50-43be-b655-49830ed75c3a",
   "metadata": {},
   "outputs": [
    {
     "data": {
      "text/plain": [
       "array([-2.3597244 , 10.68001509, -1.90782607])"
      ]
     },
     "execution_count": 38,
     "metadata": {},
     "output_type": "execute_result"
    }
   ],
   "source": [
    "margin_center = np.array(pv.wrap(mesh_small).extract_feature_edges(12).connectivity().extract_largest().center)\n",
    "margin_center"
   ]
  },
  {
   "cell_type": "code",
   "execution_count": null,
   "id": "96ead704-4908-47ba-809d-3eaf476c2a2a",
   "metadata": {},
   "outputs": [],
   "source": [
    "pv.wrap(mesh_small).bounds"
   ]
  },
  {
   "cell_type": "code",
   "execution_count": null,
   "id": "828fb364-d220-41dd-a36c-148eb0b373cf",
   "metadata": {},
   "outputs": [],
   "source": [
    "my_opp = abs(base_edges.center[1] - pv.wrap(mesh_small).bounds[2]) \n",
    "my_adj = abs(base_edges.center[0] - pv.wrap(mesh_small).bounds[1])"
   ]
  },
  {
   "cell_type": "code",
   "execution_count": null,
   "id": "34bb315a-9dd3-47dc-9d29-48f1f03b1159",
   "metadata": {},
   "outputs": [],
   "source": [
    "import math\n",
    "\n",
    "# Length of the adjacent side (e.g., 3.0 units)\n",
    "adjacent_length = my_adj\n",
    "\n",
    "# Length of the opposite side (e.g., 4.0 units)\n",
    "opposite_length = my_opp\n",
    "\n",
    "# Calculate the angle in radians\n",
    "angle_radians = math.atan(opposite_length / adjacent_length)\n",
    "\n",
    "# Convert the angle from radians to degrees\n",
    "angle_degrees = math.degrees(angle_radians)\n",
    "angle_degrees"
   ]
  },
  {
   "cell_type": "code",
   "execution_count": null,
   "id": "998376b6-a495-4e0c-8d81-fb179861bf9b",
   "metadata": {},
   "outputs": [],
   "source": [
    "compute_angle(lowest_point, base_edges.center)"
   ]
  },
  {
   "cell_type": "markdown",
   "id": "cde2f9f9-d1a8-4a60-80e2-784ab62c6ef6",
   "metadata": {
    "jp-MarkdownHeadingCollapsed": true
   },
   "source": [
    "# WORKSPACE"
   ]
  },
  {
   "cell_type": "code",
   "execution_count": null,
   "id": "fd0df373-69a8-4ba0-8554-7994b07c1cd5",
   "metadata": {},
   "outputs": [],
   "source": [
    "edges = pv.wrap(mesh_small).extract_feature_edges(15).connectivity().extract_largest()\n",
    "edges2 = pv.wrap(mesh_small).extract_feature_edges(15)\n",
    "p4 = pv.Plotter()\n",
    "p4.add_points(np.array(edges.center), point_size=15,  color='green', render_points_as_spheres=True)\n",
    "p4.add_mesh(edges, color='gold')\n",
    "p4.add_mesh(edges2, color='r')\n",
    "\n",
    "\n",
    "p4.show()\n"
   ]
  },
  {
   "cell_type": "markdown",
   "id": "8fffabd3-732d-4dd2-b53e-1b62c3a48fd7",
   "metadata": {
    "jp-MarkdownHeadingCollapsed": true
   },
   "source": [
    "# CASE VIEWER PTS"
   ]
  },
  {
   "cell_type": "code",
   "execution_count": null,
   "id": "e6d3b5bf-330a-4c5e-95af-58456eecab76",
   "metadata": {},
   "outputs": [],
   "source": [
    "import json\n",
    "\n",
    "tooth_num = 4\n",
    "txt_path = '/Users/nimbyx/Downloads/2023-09-07T02_21_39.005Z.txt'\n",
    "with open(txt_path, 'r') as f:\n",
    "    my_pts = json.load(f)\n",
    "\n",
    "pt1 = string_to_numpy_array(my_pts['points'][0]['firstPoint'])\n",
    "pt2 = string_to_numpy_array(my_pts['points'][0]['secondPoint'])\n",
    "\n",
    "tooth_filepath = os.path.join(tooth_dirpath_ottawa, f\"{tooth_num}.stl\")\n",
    "tooth4 = pv.read(tooth_filepath)\n",
    "\n",
    "p3 = pv.Plotter()\n",
    "p3.add_points(np.array(pt1), color='r', point_size=15, render_points_as_spheres=True)\n",
    "p3.add_points(np.array(pt2), color='blue', point_size=15, render_points_as_spheres=True)\n",
    "p3.add_mesh(tooth4)\n",
    "\n",
    "p3.show_grid()\n",
    "p3.show()"
   ]
  }
 ],
 "metadata": {
  "kernelspec": {
   "display_name": "Python 3 (ipykernel)",
   "language": "python",
   "name": "python3"
  },
  "language_info": {
   "codemirror_mode": {
    "name": "ipython",
    "version": 3
   },
   "file_extension": ".py",
   "mimetype": "text/x-python",
   "name": "python",
   "nbconvert_exporter": "python",
   "pygments_lexer": "ipython3",
   "version": "3.9.10"
  }
 },
 "nbformat": 4,
 "nbformat_minor": 5
}
