{
 "cells": [
  {
   "cell_type": "markdown",
   "id": "f27e5495-6387-4c56-b37b-7c4447df1042",
   "metadata": {
    "jp-MarkdownHeadingCollapsed": true
   },
   "source": [
    "# CURRENT"
   ]
  },
  {
   "cell_type": "code",
   "execution_count": 7,
   "id": "dc86203c-7212-4c9c-bd50-7b04b3362582",
   "metadata": {},
   "outputs": [
    {
     "name": "stdout",
     "output_type": "stream",
     "text": [
      "0 s\n"
     ]
    }
   ],
   "source": [
    "import time\n",
    "start1 = time.time()\n",
    "from demo2_utils import *\n",
    "from crowning2_utils import *\n",
    "from crown_utils import *\n",
    "import time\n",
    "print(int(time.time()-start1),'s')\n",
    "\n",
    "def gen_crown1(zip_order_path, toothlib_scale=1):\n",
    "    print(f'Run: gen_crown1')\n",
    "    my_crown = None\n",
    "    mesh_prep_fname, mesh_prep_3m = load_prep_from_zip(zip_order_path)\n",
    "    mesh_big, mesh_small = get_two_largest_meshes_3m(mesh_prep_3m)\n",
    "    my_case_details = get_toothnum(zip_order_path)\n",
    "    tooth_filepath = os.path.join(tooth_dirpath_ottawa, f\"{my_case_details[1]}.stl\")\n",
    "    tooth_mesh = pv.read(tooth_filepath)\n",
    "    largest_plane = get_largest_axis_idx(mesh_prep_3m.bounds)\n",
    "    if largest_plane in [0,2]:\n",
    "        if largest_plane == 2:\n",
    "            tooth_mesh1 = get_horizontal_position(mesh_prep_3m.bounds, mesh_small.centroid, tooth_mesh)\n",
    "        elif largest_plane == 0:\n",
    "            tooth_mesh1 = get_vertical_position(mesh_prep_3m.bounds, mesh_small.centroid, tooth_mesh)\n",
    "        tooth_mesh2 = tooth_mesh1.scale(np.full(3, toothlib_scale))\n",
    "        tooth_mesh3 = tooth_mesh2.translate(gen_move_coords(mesh_small.centroid, tooth_mesh2.center))\n",
    "        my_crown = tooth_mesh3.boolean_difference(pv.wrap(mesh_small)).fill_holes(5)\n",
    "    else:\n",
    "        print('y-plane largest')\n",
    "    return my_crown\n",
    "\n",
    "def plot_crown(gen_crown, zip_order_path):\n",
    "    mesh_prep_fname, mesh_prep_3m = load_prep_from_zip(zip_order_path)\n",
    "    mesh_big, mesh_small = get_two_largest_meshes_3m(mesh_prep_3m)\n",
    "    my_case_details = get_toothnum(zip_order_path)\n",
    "    cam_pos = 'xy'\n",
    "    my_shape = (1,2)\n",
    "    p1_ = pv.Plotter(shape=my_shape)\n",
    "    p1_.subplot(0,0) #1st plot\n",
    "    p1_.add_mesh(mesh_small)\n",
    "    p1_.add_mesh(mesh_big)\n",
    "    p1_.add_mesh(my_crown, color='gold', opacity=.7)\n",
    "    p1_.add_text(f'{my_case_details[0]}', position='lower_right', font_size=10)\n",
    "    p1_.camera_position=cam_pos\n",
    "    p1_.show_grid()\n",
    "    p1_.subplot(0,1) #2nd plot\n",
    "    p1_.add_mesh(my_crown, color='gold')\n",
    "    p1_.add_text(f'{my_case_details[1]}', position='upper_right')\n",
    "    p1_.add_text('antagonist', position='lower_right', font_size=10)\n",
    "    p1_.camera_position=cam_pos\n",
    "    p1_.show()"
   ]
  },
  {
   "cell_type": "code",
   "execution_count": null,
   "id": "7d7bb47b-1290-44c7-9789-d31a9ebb4ffb",
   "metadata": {
    "jupyter": {
     "source_hidden": true
    }
   },
   "outputs": [],
   "source": [
    "# filter 30,31,32 tooth num cases\n",
    "start = time.time()\n",
    "target_path_list = []\n",
    "tooth30_idx_ls = []\n",
    "ct = 0\n",
    "for i,case in enumerate(os.listdir(udx_dirpath)):\n",
    "    ct += 1\n",
    "    case_path = os.path.join(udx_dirpath, case)\n",
    "    my_case_details = get_toothnum(case_path)\n",
    "    if not my_case_details:\n",
    "        print(f'Not designed: {case_path}')\n",
    "        # os.remove(case_path) \n",
    "        continue\n",
    "    # if my_case_details[1] in [30, 31,32]:\n",
    "    if str(my_case_details[1]) == '30':\n",
    "        tooth30_idx_ls.append(i)\n",
    "        target_path_list.append(case_path)\n",
    "\n",
    "print(f'Total cases: {len(os.listdir(udx_dirpath))}\\nFiltered cases: {len(target_path_list)}')\n",
    "print(f'Runtime: {int(time.time()-start)}s')\n",
    "target_idx = -1\n",
    "print(f'30: {tooth30_idx_ls}')"
   ]
  },
  {
   "cell_type": "code",
   "execution_count": null,
   "id": "dc76f020-8031-492c-933a-a913ad05eac7",
   "metadata": {
    "scrolled": true
   },
   "outputs": [],
   "source": [
    "#PROCESS\n",
    "# target_idx += 1\n",
    "\n",
    "start1 = time.time()\n",
    "file_path = target_path_list[target_idx]\n",
    "mesh_prep_fname, mesh_prep_3m = load_prep_from_zip(file_path)\n",
    "mesh_anta_fname, mesh_anta_3m = load_anta_from_zip(file_path)\n",
    "mesh_big, mesh_small = get_two_largest_meshes_3m(mesh_prep_3m)\n",
    "my_case_details = get_toothnum(file_path)\n",
    "tooth_filepath = os.path.join(tooth_dirpath_ottawa, f\"{my_case_details[1]}.stl\")\n",
    "tooth_mesh = pv.read(tooth_filepath)\n",
    "tooth_desi = get_designer_tooth(file_path)\n",
    "\n",
    "# case when z plane is larger than x plane\n",
    "largest_plane = get_largest_axis_idx(mesh_prep_3m.bounds)\n",
    "print(f'largest plane: {largest_plane}')\n",
    "if largest_plane in [0,2]:\n",
    "    if largest_plane == 2:\n",
    "        tooth_mesh1 = get_horizontal_position(mesh_prep_3m.bounds, mesh_small.centroid, tooth_mesh)\n",
    "    elif largest_plane == 0:\n",
    "        tooth_mesh1 = get_vertical_position(mesh_prep_3m.bounds, mesh_small.centroid, tooth_mesh)\n",
    "    tooth_mesh2 = tooth_mesh1.scale(np.full(3, 1.20))\n",
    "    tooth_mesh3 = tooth_mesh2.translate(gen_move_coords(mesh_small.centroid, tooth_mesh2.center))\n",
    "    my_crown = tooth_mesh3.boolean_difference(pv.wrap(mesh_small))\n",
    "   \n",
    "    cam_pos = 'xy'\n",
    "    my_shape = (1,4)\n",
    "    p1_ = pv.Plotter(shape=my_shape)\n",
    "        \n",
    "    p1_.subplot(0,0) #1st plot\n",
    "    p1_.add_mesh(mesh_small)\n",
    "    p1_.add_mesh(mesh_big)\n",
    "    p1_.add_mesh(tooth_mesh3, \n",
    "                 color='gold')\n",
    "    p1_.add_text(f'{my_case_details[0]}', position='lower_right', font_size=10)\n",
    "    p1_.camera_position=cam_pos\n",
    "    p1_.show_grid()\n",
    "\n",
    "    p1_.subplot(0,1) #2nd plot\n",
    "    p1_.add_mesh(pv.wrap(mesh_anta_3m), opacity=.8)\n",
    "    # p1_.add_mesh(tooth_mesh3.translate(gen_move_coords(tooth_mesh3.center-np.array([0,0,1]), tooth_mesh3.center)), color='w')\n",
    "    p1_.add_mesh(tooth_mesh3, color='gold')\n",
    "    p1_.add_text(f'{my_case_details[1]}', position='upper_right')\n",
    "    p1_.add_text('antagonist', position='lower_right', font_size=10)\n",
    "    p1_.camera_position=cam_pos\n",
    "    \n",
    "    p1_.subplot(0,2) #3rd plot\n",
    "    # p1_.add_mesh(my_crown, color='gold', opacity=.9)\n",
    "    # p1_.add_points(tooth_edges, color='red', line_width=10)\n",
    "    p1_.add_mesh(pv.wrap(mesh_small))\n",
    "    p1_.add_text('auto', position='lower_right', font_size=10)\n",
    "    # p1_.enable_surface_point_picking(callback=callback2, show_point=True)\n",
    "    p1_.show_grid()\n",
    "    p1_.camera_position=cam_pos\n",
    "\n",
    "    p1_.subplot(0,3) #4th plot\n",
    "    p1_.add_mesh(pv.wrap(mesh_small))\n",
    "    p1_.add_mesh(tooth_desi, color='w', opacity=.9)\n",
    "    p1_.add_text('designer', position='lower_right', font_size=10)\n",
    "    p1_.show_grid()\n",
    "    p1_.camera_position=cam_pos\n",
    "\n",
    "    p1_.show()\n",
    "else:\n",
    "    print('y-plane largest')\n",
    "print(int(time.time()-start1), 's')"
   ]
  },
  {
   "cell_type": "code",
   "execution_count": null,
   "id": "cb1058cd-7e0b-485e-b357-58076d68060c",
   "metadata": {
    "jupyter": {
     "source_hidden": true
    }
   },
   "outputs": [],
   "source": [
    "#PROCESS v2\n",
    "# target_idx += 1\n",
    "\n",
    "start1 = time.time()\n",
    "file_path = target_path_list[target_idx]\n",
    "mesh_prep_fname, mesh_prep_3m = load_prep_from_zip(file_path)\n",
    "mesh_anta_fname, mesh_anta_3m = load_anta_from_zip(file_path)\n",
    "mesh_big, mesh_small = get_two_largest_meshes_3m(mesh_prep_3m)\n",
    "my_case_details = get_toothnum(file_path)\n",
    "tooth_filepath = os.path.join(tooth_dirpath_ottawa, f\"{my_case_details[1]}.stl\")\n",
    "tooth_mesh = pv.read(tooth_filepath)\n",
    "tooth_desi = get_designer_tooth(file_path)\n",
    "\n",
    "# get margin\n",
    "margin = pv.wrap(mesh_small).extract_feature_edges(7).connectivity().extract_largest()\n",
    "base_bot = pv.wrap(mesh_small).extract_feature_edges(90)\n",
    "if not margin:\n",
    "    print('Margin error')\n",
    "    \n",
    "elif base_bot.center == margin.center:\n",
    "    print('Unable to detect margin')\n",
    "    \n",
    "else:\n",
    "    # case when z plane is larger than x plane\n",
    "    largest_plane = get_largest_axis_idx(mesh_prep_3m.bounds)\n",
    "    print(f'largest plane: {largest_plane}')\n",
    "    if largest_plane in [0,2]:\n",
    "        if largest_plane == 2:\n",
    "            tooth_mesh1 = get_horizontal_position(mesh_prep_3m.bounds, mesh_small.centroid, tooth_mesh)\n",
    "        elif largest_plane == 0:\n",
    "            tooth_mesh1 = get_vertical_position(mesh_prep_3m.bounds, mesh_small.centroid, tooth_mesh)\n",
    "        # tooth_mesh1 = tooth_mesh1.rotate_z(-compute_angle2(mesh_small))\n",
    "        \n",
    "        tooth_mesh2 = tooth_mesh1.scale(np.full(3, 1.00))\n",
    "        tooth_mesh3 = tooth_mesh2.translate(gen_move_coords(mesh_small.centroid, tooth_mesh2.center))\n",
    "        # tooth_mesh3 = tooth_mesh2.translate(gen_move_coords(margin.center, tooth_mesh2.center))\n",
    "        my_crown = tooth_mesh3.boolean_difference(pv.wrap(mesh_small)).fill_holes(5)\n",
    "       \n",
    "        cam_pos = 'xy'\n",
    "        my_shape = (1,2)\n",
    "        p1_ = pv.Plotter(shape=my_shape)\n",
    "            \n",
    "        p1_.subplot(0,0) #1st plot\n",
    "        p1_.add_mesh(mesh_small)\n",
    "        p1_.add_mesh(mesh_big)\n",
    "        p1_.add_mesh(my_crown, \n",
    "                     color='gold', opacity=.7)\n",
    "        p1_.add_text(f'{my_case_details[0]}', position='lower_right', font_size=10)\n",
    "        p1_.camera_position=cam_pos\n",
    "        p1_.show_grid()\n",
    "    \n",
    "        p1_.subplot(0,1) #2nd plot\n",
    "        # p1_.add_mesh(pv.wrap(mesh_anta_3m), opacity=.8)\n",
    "        # p1_.add_mesh(tooth_mesh3.translate(gen_move_coords(tooth_mesh3.center-np.array([0,0,1]), tooth_mesh3.center)), color='w')\n",
    "        p1_.add_mesh(my_crown, color='gold')\n",
    "        p1_.add_text(f'{my_case_details[1]}', position='upper_right')\n",
    "        p1_.add_text('antagonist', position='lower_right', font_size=10)\n",
    "        p1_.camera_position=cam_pos\n",
    "        p1_.show()\n",
    "    else:\n",
    "        print('y-plane largest')\n",
    "    print(int(time.time()-start1), 's')"
   ]
  },
  {
   "cell_type": "code",
   "execution_count": 2,
   "id": "87ed07fe-007a-4233-84cd-d58f248a6004",
   "metadata": {},
   "outputs": [],
   "source": [
    "tooth30_idx_ls = [8, 16, 26, 31, 34, 39, 43, 44, 58, 69, 86, 92, 94, 108, 117, 148, 150, 154, 157, 158, 169, 170, 180, 181, 183, 186, 192, 196, 221, 225, 250, 266]\n",
    "my_idx = 0\n",
    "my_orderpath = os.path.join(udx_dirpath, os.listdir(udx_dirpath)[tooth30_idx_ls[my_idx]])"
   ]
  },
  {
   "cell_type": "code",
   "execution_count": null,
   "id": "7af5bca0-d492-474d-8f8e-e396201e39d8",
   "metadata": {},
   "outputs": [],
   "source": [
    "my_idx += 1"
   ]
  },
  {
   "cell_type": "code",
   "execution_count": 8,
   "id": "a8ca316e-e702-43bb-8384-546df8e80184",
   "metadata": {},
   "outputs": [
    {
     "name": "stdout",
     "output_type": "stream",
     "text": [
      "Run: gen_crown1\n",
      "LOWER\n"
     ]
    },
    {
     "data": {
      "application/vnd.jupyter.widget-view+json": {
       "model_id": "314f5b822862430c9658147601c07d1e",
       "version_major": 2,
       "version_minor": 0
      },
      "text/plain": [
       "Widget(value=\"<iframe src='http://localhost:50888/index.html?ui=P_0x1042d1190_4&reconnect=auto' style='width: …"
      ]
     },
     "metadata": {},
     "output_type": "display_data"
    }
   ],
   "source": [
    "my_crown = gen_crown1(my_orderpath, 1.1)\n",
    "plot_crown(my_crown, my_orderpath)"
   ]
  },
  {
   "cell_type": "markdown",
   "id": "cde2f9f9-d1a8-4a60-80e2-784ab62c6ef6",
   "metadata": {},
   "source": [
    "# WORKSPACE"
   ]
  },
  {
   "cell_type": "code",
   "execution_count": null,
   "id": "4ba9c89a-db57-4c5d-bafd-eedf4f267e98",
   "metadata": {},
   "outputs": [],
   "source": [
    "# import pyvista as pvorigin = poly.center\n",
    "origin[-1] -= poly.length / 3.0\n",
    "projected = poly.project_points_to_plane(origin=origin)\n",
    "\n",
    "# Display the results\n",
    "p = pv.Plotter()\n",
    "p.add_mesh(poly)\n",
    "p.add_mesh(projected)\n",
    "p.show()\n",
    "from pyvista import examples\n",
    "\n",
    "poly = examples.load_random_hills()\n",
    "poly.plot()"
   ]
  },
  {
   "cell_type": "code",
   "execution_count": null,
   "id": "b16979fe-8176-46ba-b569-23015f317358",
   "metadata": {},
   "outputs": [],
   "source": [
    "origin = poly.center\n",
    "origin[-1] -= poly.length / 3.0\n",
    "projected = poly.project_points_to_plane(origin=origin)\n",
    "\n",
    "# Display the results\n",
    "p = pv.Plotter()\n",
    "# p.add_mesh(poly)\n",
    "p.add_mesh(projected)\n",
    "p.show()"
   ]
  },
  {
   "cell_type": "code",
   "execution_count": null,
   "id": "c4f185f4-fb80-4f55-994e-a20cc365af1d",
   "metadata": {},
   "outputs": [],
   "source": []
  },
  {
   "cell_type": "code",
   "execution_count": null,
   "id": "276ff0b9-95b4-4f11-86c7-2141f0bdc33a",
   "metadata": {},
   "outputs": [],
   "source": [
    "values = spider_cage(x, y, z)\n",
    "values"
   ]
  },
  {
   "cell_type": "code",
   "execution_count": null,
   "id": "465b750c-a34a-4c01-bd18-841a5ac54055",
   "metadata": {},
   "outputs": [],
   "source": [
    "type(grid)"
   ]
  },
  {
   "cell_type": "code",
   "execution_count": null,
   "id": "ee0d21c2-e1ad-4c3a-a5fa-4d410062ea60",
   "metadata": {},
   "outputs": [],
   "source": [
    "mesh = grid.contour([1], values, method='marching_cubes')\n",
    "mesh.plot()"
   ]
  },
  {
   "cell_type": "code",
   "execution_count": null,
   "id": "b40a15ff-ab6d-4db6-aafa-1230682d00b2",
   "metadata": {},
   "outputs": [],
   "source": [
    "dist = np.linalg.norm(mesh.points, axis=1)\n",
    "mesh.plot(scalars=dist, smooth_shading=True, specular=1, cmap=\"plasma\", show_scalar_bar=False)"
   ]
  },
  {
   "cell_type": "code",
   "execution_count": null,
   "id": "a2ccde96-4171-4830-898d-c41de1db0876",
   "metadata": {},
   "outputs": [],
   "source": [
    "test_mesh = pv.wrap(mesh_small).extract_feature_edges(7).connectivity(largest=True)"
   ]
  },
  {
   "cell_type": "code",
   "execution_count": null,
   "id": "bc34a41b-2c35-4008-a513-df17c1df9771",
   "metadata": {},
   "outputs": [],
   "source": [
    "p1_ = pv.Plotter(shape=my_shape)\n",
    "            \n",
    "p1_.subplot(0,0) #1st plot\n",
    "p1_.add_mesh(mesh_small)\n",
    "p1_.add_mesh(mesh_big)\n",
    "p1_.add_mesh(tooth_desi, \n",
    "             color='gold', opacity=.7)\n",
    "p1_.add_text(f'{my_case_details[0]}', position='lower_right', font_size=10)\n",
    "p1_.camera_position=cam_pos\n",
    "p1_.show_grid()\n",
    "\n",
    "p1_.subplot(0,1) #2nd plot\n",
    "# p1_.add_mesh(pv.wrap(mesh_anta_3m), opacity=.8)\n",
    "# p1_.add_mesh(tooth_mesh3.translate(gen_move_coords(tooth_mesh3.center-np.array([0,0,1]), tooth_mesh3.center)), color='w')\n",
    "p1_.add_mesh(tooth_desi, color='gold')\n",
    "p1_.add_text(f'{my_case_details[1]}', position='upper_right')\n",
    "p1_.add_text('antagonist', position='lower_right', font_size=10)\n",
    "p1_.camera_position=cam_pos\n",
    "p1_.show()"
   ]
  },
  {
   "cell_type": "code",
   "execution_count": null,
   "id": "77ffa363-a2ab-4a4a-b84e-8005d4d77686",
   "metadata": {},
   "outputs": [],
   "source": [
    "mesh_small.volume"
   ]
  },
  {
   "cell_type": "code",
   "execution_count": null,
   "id": "280ad145-c223-4ec9-ba39-9093e8c37c15",
   "metadata": {},
   "outputs": [],
   "source": [
    "tooth_desi.volume"
   ]
  },
  {
   "cell_type": "code",
   "execution_count": null,
   "id": "09f89173-abb9-4d16-86a9-81c13cd10094",
   "metadata": {},
   "outputs": [],
   "source": [
    "my_crown.volume"
   ]
  },
  {
   "cell_type": "markdown",
   "id": "8fffabd3-732d-4dd2-b53e-1b62c3a48fd7",
   "metadata": {},
   "source": [
    "# CASE VIEWER PTS"
   ]
  },
  {
   "cell_type": "code",
   "execution_count": null,
   "id": "e6d3b5bf-330a-4c5e-95af-58456eecab76",
   "metadata": {},
   "outputs": [],
   "source": [
    "import json\n",
    "\n",
    "tooth_num = 4\n",
    "txt_path = '/Users/nimbyx/Downloads/2023-09-07T02_21_39.005Z.txt'\n",
    "with open(txt_path, 'r') as f:\n",
    "    my_pts = json.load(f)\n",
    "\n",
    "pt1 = string_to_numpy_array(my_pts['points'][0]['firstPoint'])\n",
    "pt2 = string_to_numpy_array(my_pts['points'][0]['secondPoint'])\n",
    "\n",
    "tooth_filepath = os.path.join(tooth_dirpath_ottawa, f\"{tooth_num}.stl\")\n",
    "tooth4 = pv.read(tooth_filepath)\n",
    "\n",
    "p3 = pv.Plotter()\n",
    "p3.add_points(np.array(pt1), color='r', point_size=15, render_points_as_spheres=True)\n",
    "p3.add_points(np.array(pt2), color='blue', point_size=15, render_points_as_spheres=True)\n",
    "p3.add_mesh(tooth4)\n",
    "\n",
    "p3.show_grid()\n",
    "p3.show()"
   ]
  }
 ],
 "metadata": {
  "kernelspec": {
   "display_name": "Python 3 (ipykernel)",
   "language": "python",
   "name": "python3"
  },
  "language_info": {
   "codemirror_mode": {
    "name": "ipython",
    "version": 3
   },
   "file_extension": ".py",
   "mimetype": "text/x-python",
   "name": "python",
   "nbconvert_exporter": "python",
   "pygments_lexer": "ipython3",
   "version": "3.9.10"
  }
 },
 "nbformat": 4,
 "nbformat_minor": 5
}
