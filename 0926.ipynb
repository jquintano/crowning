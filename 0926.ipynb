{
 "cells": [
  {
   "cell_type": "markdown",
   "id": "654f8754-7a06-4fb5-9974-df9811ffa29a",
   "metadata": {
    "jp-MarkdownHeadingCollapsed": true
   },
   "source": [
    "# BASE"
   ]
  },
  {
   "cell_type": "code",
   "execution_count": 1,
   "id": "519b8b7f-3f9f-4182-92d0-00b413fb7f47",
   "metadata": {},
   "outputs": [
    {
     "name": "stdout",
     "output_type": "stream",
     "text": [
      "1 s\n"
     ]
    }
   ],
   "source": [
    "import time\n",
    "start1 = time.time()\n",
    "from demo2_utils import *\n",
    "from crowning2_utils import *\n",
    "from crown_utils import *\n",
    "from typing import Optional, Tuple\n",
    "import matplotlib.pyplot as plt\n",
    "\n",
    "def gen_crown1(zip_order_path, toothlib_scale=1):\n",
    "    print(f'Run: gen_crown1')\n",
    "    my_crown = None\n",
    "    mesh_prep_fname, mesh_prep_3m = load_prep_from_zip(zip_order_path)\n",
    "    mesh_big, mesh_small = get_two_largest_meshes_3m(mesh_prep_3m)\n",
    "    my_case_details = get_toothnum(zip_order_path)\n",
    "    tooth_filepath = os.path.join(tooth_dirpath_ottawa, f\"{my_case_details[1]}.stl\")\n",
    "    tooth_mesh = pv.read(tooth_filepath)\n",
    "    largest_plane = get_largest_axis_idx(mesh_prep_3m.bounds)\n",
    "    if largest_plane in [0,2]:\n",
    "        if largest_plane == 2:\n",
    "            tooth_mesh1 = get_horizontal_position(mesh_prep_3m.bounds, mesh_small.centroid, tooth_mesh)\n",
    "        elif largest_plane == 0:\n",
    "            tooth_mesh1 = get_vertical_position(mesh_prep_3m.bounds, mesh_small.centroid, tooth_mesh)\n",
    "        tooth_mesh2 = tooth_mesh1.scale(np.full(3, toothlib_scale))\n",
    "        tooth_mesh3 = tooth_mesh2.translate(gen_move_coords(mesh_small.centroid, tooth_mesh2.center))\n",
    "        my_crown = tooth_mesh3.boolean_difference(pv.wrap(mesh_small)).fill_holes(5)\n",
    "    else:\n",
    "        print('y-plane largest')\n",
    "    return my_crown\n",
    "\n",
    "def plot_crown(gen_crown, zip_order_path):\n",
    "    mesh_prep_fname, mesh_prep_3m = load_prep_from_zip(zip_order_path)\n",
    "    mesh_big, mesh_small = get_two_largest_meshes_3m(mesh_prep_3m)\n",
    "    my_case_details = get_toothnum(zip_order_path)\n",
    "    cam_pos = 'xy'\n",
    "    my_shape = (1,2)\n",
    "    p1_ = pv.Plotter(shape=my_shape)\n",
    "    p1_.subplot(0,0) #1st plot\n",
    "    p1_.add_mesh(mesh_small)\n",
    "    p1_.add_mesh(mesh_big)\n",
    "    p1_.add_mesh(my_crown, color='w')#, opacity=.7)\n",
    "    p1_.add_text(f'{my_case_details[0]}', position='lower_right', font_size=10)\n",
    "    p1_.camera_position=cam_pos\n",
    "    p1_.show_grid()\n",
    "    p1_.subplot(0,1) #2nd plot\n",
    "    p1_.add_mesh(my_crown, color='gold')\n",
    "    p1_.add_text(f'{my_case_details[1]}', position='upper_right')\n",
    "    # p1_.add_text('antagonist', position='lower_right', font_size=10)\n",
    "    p1_.camera_position=cam_pos\n",
    "    p1_.show()\n",
    "\n",
    "\n",
    "def matplot_pts(my_pts):\n",
    "    grid_size = 1\n",
    "    spogrid_size: int = 1\n",
    "    fig = plt.figure(figsize=(4, 4))\n",
    "    \n",
    "    for i in range(grid_size):\n",
    "        for j in range(grid_size):\n",
    "            ax = fig.add_subplot(grid_size, grid_size, 1 + j + i * grid_size, projection=\"3d\")\n",
    "            c = my_pts\n",
    "    \n",
    "            if grid_size > 1:\n",
    "                theta = np.pi * 2 * (i * grid_size + j) / (grid_size**2)\n",
    "                rotation = np.array(\n",
    "                    [\n",
    "                        [np.cos(theta), -np.sin(theta), 0.0],\n",
    "                        [np.sin(theta), np.cos(theta), 0.0],\n",
    "                        [0.0, 0.0, 1.0],\n",
    "                    ]\n",
    "                )\n",
    "                c = c @ rotation\n",
    "    \n",
    "            ax.scatter(c[:, 0], c[:, 1], c[:, 2])\n",
    "\n",
    "\n",
    "def plot_point_cloud(\n",
    "    # pc: PointCloud,\n",
    "    pc: np.ndarray,\n",
    "    color: bool = False,\n",
    "    grid_size: int = 1,\n",
    "    fixed_bounds: Optional[Tuple[Tuple[float, float, float], Tuple[float, float, float]]] = (\n",
    "        (-0.75, -0.75, -0.75),\n",
    "        (0.75, 0.75, 0.75),\n",
    "    ),\n",
    "):\n",
    "    \"\"\"\n",
    "    Render a point cloud as a plot to the given image path.\n",
    "\n",
    "    :param pc: the PointCloud to plot.\n",
    "    :param image_path: the path to save the image, with a file extension.\n",
    "    :param color: if True, show the RGB colors from the point cloud.\n",
    "    :param grid_size: the number of random rotations to render.\n",
    "    \"\"\"\n",
    "    fig = plt.figure(figsize=(8, 8))\n",
    "\n",
    "    for i in range(grid_size):\n",
    "        for j in range(grid_size):\n",
    "            ax = fig.add_subplot(grid_size, grid_size, 1 + j + i * grid_size, projection=\"3d\")\n",
    "            color_args = {}\n",
    "            if color:\n",
    "                color_args[\"c\"] = np.stack(\n",
    "                    [pc.channels[\"R\"], pc.channels[\"G\"], pc.channels[\"B\"]], axis=-1\n",
    "                )\n",
    "            # c = pc.coords\n",
    "            c = pc\n",
    "\n",
    "            if grid_size > 1:\n",
    "                theta = np.pi * 2 * (i * grid_size + j) / (grid_size**2)\n",
    "                rotation = np.array(\n",
    "                    [\n",
    "                        [np.cos(theta), -np.sin(theta), 0.0],\n",
    "                        [np.sin(theta), np.cos(theta), 0.0],\n",
    "                        [0.0, 0.0, 1.0],\n",
    "                    ]\n",
    "                )\n",
    "                # c = c @ rotation\n",
    "\n",
    "            ax.scatter(c[:, 0], c[:, 1], c[:, 2], **color_args)\n",
    "\n",
    "            if fixed_bounds is None:\n",
    "                min_point = c.min(0)\n",
    "                max_point = c.max(0)\n",
    "                size = (max_point - min_point).max() / 2\n",
    "                center = (min_point + max_point) / 2\n",
    "                ax.set_xlim3d(center[0] - size, center[0] + size)\n",
    "                ax.set_ylim3d(center[1] - size, center[1] + size)\n",
    "                ax.set_zlim3d(center[2] - size, center[2] + size)\n",
    "            else:\n",
    "                ax.set_xlim3d(fixed_bounds[0][0], fixed_bounds[1][0])\n",
    "                ax.set_ylim3d(fixed_bounds[0][1], fixed_bounds[1][1])\n",
    "                ax.set_zlim3d(fixed_bounds[0][2], fixed_bounds[1][2])\n",
    "\n",
    "    return fig\n",
    "print(int(time.time()-start1),'s')"
   ]
  },
  {
   "cell_type": "code",
   "execution_count": null,
   "id": "8bbab816-dad5-4748-ad72-e738019e0d7c",
   "metadata": {},
   "outputs": [],
   "source": [
    "my_scale = 1.1\n",
    "my_crown = gen_crown1(my_orderpath, my_scale)\n",
    "plot_crown(my_crown, my_orderpath)"
   ]
  },
  {
   "cell_type": "markdown",
   "id": "3ec11935-3b96-4eb0-b8a0-e32ed42ad9b3",
   "metadata": {},
   "source": [
    "# PROCESS (AFTER CROWN INITIAL POS)\n",
    "1. extract margin edges\n",
    "2. get the margin lowest y-coordinate\n",
    "3. filter the generated crown using the margin lowest y-coordinate as threshold"
   ]
  },
  {
   "cell_type": "markdown",
   "id": "c5a38ea2-1fc9-4bf3-847b-16eaee208c73",
   "metadata": {},
   "source": [
    "# WORKSPACE"
   ]
  },
  {
   "cell_type": "code",
   "execution_count": 117,
   "id": "fa0f5ac4-733f-42fd-9b53-ae8ac0f79dd9",
   "metadata": {},
   "outputs": [
    {
     "data": {
      "text/plain": [
       "'/Users/nimbyx/Projects/CROWNING/cases/20230905113915481_2749854_W434.zip'"
      ]
     },
     "execution_count": 117,
     "metadata": {},
     "output_type": "execute_result"
    }
   ],
   "source": [
    "# case particular\n",
    "tooth30_idx_ls = [8, 16, 26, 31, 34, 39, 43, 44, 58, 69, 86, 92, 94, 108, 117, 148, 150, 154, 157, 158, 169, 170, 180, 181, 183, 186, 192, 196, 221, 225, 250, 266]\n",
    "my_idx = 0\n",
    "my_orderpath = os.path.join(udx_dirpath, os.listdir(udx_dirpath)[tooth30_idx_ls[my_idx]])\n",
    "my_orderpath"
   ]
  },
  {
   "cell_type": "code",
   "execution_count": 3,
   "id": "c4f5ab5b-e252-41cb-a9e7-751f3e3864eb",
   "metadata": {},
   "outputs": [
    {
     "name": "stdout",
     "output_type": "stream",
     "text": [
      "0s\n"
     ]
    }
   ],
   "source": [
    "start = time.time()\n",
    "mesh_prep_fname, mesh_prep_3m = load_prep_from_zip(my_orderpath)\n",
    "mesh_big, mesh_small = get_two_largest_meshes_3m(mesh_prep_3m)\n",
    "mesh_anta_fname, mesh_anta_3m = load_anta_from_zip(my_orderpath)\n",
    "my_case_details = get_toothnum(my_orderpath)\n",
    "print(f'{int(time.time()-start)}s')"
   ]
  },
  {
   "cell_type": "code",
   "execution_count": 4,
   "id": "cc12ec1f-f2a6-4472-adfc-1dd5bb41b649",
   "metadata": {},
   "outputs": [],
   "source": [
    "# get margin\n",
    "prep_edges = pv.wrap(mesh_small).extract_feature_edges(10)\n",
    "largest_edge = prep_edges.extract_largest().split_bodies()[0]"
   ]
  },
  {
   "cell_type": "code",
   "execution_count": 5,
   "id": "75dd56f3-4927-408e-9f4f-9d98d22a5fef",
   "metadata": {},
   "outputs": [
    {
     "name": "stdout",
     "output_type": "stream",
     "text": [
      "Before: 1257 pts\n",
      "After: 50 pts\n"
     ]
    }
   ],
   "source": [
    "import vedo\n",
    "\n",
    "# convert the extract margin to vedo points\n",
    "margin_pts_ve = vedo.Points(largest_edge.points)\n",
    "print(f'Before: {len(margin_pts_ve.points())} pts')\n",
    "# downsample margin points break!\n",
    "margin_pts2_ve = margin_pts_ve.subsample(0.04)\n",
    "print(f'After: {len(margin_pts2_ve.points())} pts')"
   ]
  },
  {
   "cell_type": "code",
   "execution_count": 6,
   "id": "82c5bffb-7823-4c9e-b3bf-5921b1c07bdf",
   "metadata": {},
   "outputs": [
    {
     "data": {
      "image/png": "[encoded data removed]",
      "text/plain": [
       "<Figure size 400x400 with 1 Axes>"
      ]
     },
     "metadata": {},
     "output_type": "display_data"
    }
   ],
   "source": [
    "# interconnect the downsampled margin points\n",
    "from scipy.spatial import KDTree\n",
    "\n",
    "def continuous_line_from_pointcloud(pc):\n",
    "    pc_copy = pc.copy()   \n",
    "    start_point = pc_copy[np.random.choice(len(pc_copy))]\n",
    "    current_point = start_point    \n",
    "    lines = pv.PolyData()    \n",
    "    while len(pc_copy) > 0:        \n",
    "        distances = np.linalg.norm(pc_copy - current_point, axis=1)        \n",
    "        nearest_i = np.argmin(distances)\n",
    "        nearest_point = pc_copy[nearest_i]        \n",
    "        lines += pv.Line(current_point, nearest_point)        \n",
    "        pc_copy = np.delete(pc_copy, nearest_i, axis=0)        \n",
    "        current_point = nearest_point    \n",
    "    lines += pv.Line(current_point, start_point)\n",
    "    return lines\n",
    "\n",
    "margin_line = continuous_line_from_pointcloud(margin_pts2_ve.points())\n",
    "matplot_pts(margin_line.points)"
   ]
  },
  {
   "cell_type": "code",
   "execution_count": 7,
   "id": "7f2ffb4e-0cae-467a-8a93-aa7bb69ffdff",
   "metadata": {},
   "outputs": [],
   "source": [
    "# margin cube 2\n",
    "x_len2 = abs(margin_line.bounds[0] - margin_line.bounds[1])\n",
    "y_len2 = abs(margin_line.bounds[2] - margin_line.bounds[3])\n",
    "z_len2 = abs(margin_line.bounds[4] - margin_line.bounds[5])\n",
    "my_cube2 = pv.Cube(center=mesh_small.centroid,\n",
    "                    x_length=x_len2,\n",
    "                    y_length=y_len2,\n",
    "                    z_length=z_len2\n",
    "                 )"
   ]
  },
  {
   "cell_type": "code",
   "execution_count": 54,
   "id": "cee12683-de88-489e-8654-fffc0f3c0e27",
   "metadata": {},
   "outputs": [],
   "source": [
    "# get antagonist intersect\n",
    "mesh_anta_pv = pv.wrap(mesh_anta_3m)\n",
    "start_pt = mesh_small.centroid\n",
    "end_pt = mesh_small.centroid + np.array([0, 20, 0])\n",
    "anta_line = pv.Line(start_pt, end_pt)\n",
    "anta_intx= mesh_anta_pv.ray_trace(start_pt, end_pt)[0].flatten()\n",
    "anta_slice = mesh_anta_pv.slice(normal=[1,0,0], origin=anta_intx)\n",
    "anta_slice_min_y = anta_slice.points[np.argmin(anta_slice.points[:, 1])]\n",
    "\n",
    "\n",
    "# get intersect of prep\n",
    "mesh_prep_pv = pv.wrap(mesh_prep_3m)\n",
    "mesh_intx = mesh_prep_pv.ray_trace(start_pt, end_pt)[0].flatten()\n",
    "mesh_anta_surfs = pv.Line(mesh_intx, anta_intx)\n",
    "\n",
    "# get mid point of the line bet anta and prep\n",
    "mesh_anta_midpt = np.array((anta_intx + mesh_intx)/2)\n",
    "end_pt2 = mesh_anta_midpt + np.array([10, 0 ,0])\n",
    "end_pt3 = mesh_anta_midpt + np.array([-10, 0 ,0])\n",
    "adj_line1 = pv.Line(mesh_anta_midpt, end_pt2)\n",
    "adj_line2 = pv.Line(mesh_anta_midpt, end_pt3)\n",
    "\n",
    "# get adjacent tooth distances\n",
    "adj_intx1 = mesh_prep_pv.ray_trace(mesh_anta_midpt, end_pt2)[0].flatten()\n",
    "adj_intx2 = mesh_prep_pv.ray_trace(mesh_anta_midpt, end_pt3)[0].flatten()\n",
    "adj_dist = np.linalg.norm(adj_intx1 - adj_intx2)"
   ]
  },
  {
   "cell_type": "code",
   "execution_count": 43,
   "id": "fc30e1d5-4dfa-4c96-9f5b-e240dde01eaf",
   "metadata": {},
   "outputs": [
    {
     "data": {
      "text/plain": [
       "array([0.7192402, 3.5474248, 0.8126794], dtype=float32)"
      ]
     },
     "execution_count": 43,
     "metadata": {},
     "output_type": "execute_result"
    }
   ],
   "source": [
    "line_len"
   ]
  },
  {
   "cell_type": "code",
   "execution_count": 28,
   "id": "0eee69cd-b6b7-4413-b7ef-590badda1f6f",
   "metadata": {},
   "outputs": [],
   "source": [
    "# margin cube 3\n",
    "# x_len3 = abs(margin_line.bounds[0] - margin_line.bounds[1])\n",
    "y_len3 = abs(anta_intx[1] - margin_line.bounds[3]) # Using antagonist intersect\n",
    "y_len3 = abs(margin_line.bounds[3] - margin_line.bounds[2])\n",
    "z_len3 = abs(margin_line.bounds[5] - margin_line.bounds[4])\n",
    "\n",
    "my_cube3 = pv.Cube(center=margin_line.center + np.array([0, (y_len3/2 + y_len2/2), 0]),\n",
    "                    x_length=x_len3,\n",
    "                    y_length=y_len3,\n",
    "                    z_length=z_len3\n",
    "                 )\n",
    "# combine both cubes\n",
    "my_cube4 = my_cube2 + my_cube3"
   ]
  },
  {
   "cell_type": "code",
   "execution_count": 69,
   "id": "035ad5b8-5186-4ad2-a66c-6f07f532701e",
   "metadata": {},
   "outputs": [
    {
     "name": "stdout",
     "output_type": "stream",
     "text": [
      "(-4.704641819000244, 7.029688835144043, 30.554964065551758, 36.38062286376953, 2.6879208087921143, 13.960806846618652)\n",
      "Lowest points on slice: [ 1.23626292 35.30057299  5.54376714]\n"
     ]
    },
    {
     "data": {
      "image/png": "[encoded data removed]",
      "text/plain": [
       "<Figure size 400x400 with 1 Axes>"
      ]
     },
     "metadata": {},
     "output_type": "display_data"
    }
   ],
   "source": [
    "# create 1 cube from the combined cubes\n",
    "# x_len5 = abs(my_cube4.bounds[1] - my_cube4.bounds[0])\n",
    "offset_val = 0\n",
    "center_offset = np.array([0, 0, offset_val])\n",
    "new_center = my_cube4.center - center_offset\n",
    "\n",
    "x_len5 = abs(my_cube4.bounds[1] - my_cube4.bounds[0])\n",
    "y_len5 = abs(my_cube4.bounds[3] - my_cube4.bounds[2])\n",
    "z_len5 = abs(my_cube4.bounds[5] - my_cube4.bounds[4]) \n",
    "\n",
    "my_cube5 = pv.Cube(\n",
    "                    # center=my_cube4.center,\n",
    "                    center=new_center,\n",
    "                    # x_length=adj_dist\n",
    "                    x_length=x_len5,\n",
    "                    y_length=y_len5,\n",
    "                    z_length=z_len5\n",
    "                )\n",
    "\n",
    "my_cube5 = my_cube5.rotate_y(-5, point=my_cube5.center) # adj teeth alignment (manual)\n",
    "\n",
    "matplot_pts(my_cube5.points)\n",
    "print(my_cube5.bounds)\n",
    "print(f'Lowest points on slice: {anta_slice_min_y}')"
   ]
  },
  {
   "cell_type": "code",
   "execution_count": null,
   "id": "c024bb0f-1f7e-402c-a91b-c76612832358",
   "metadata": {},
   "outputs": [],
   "source": []
  },
  {
   "cell_type": "code",
   "execution_count": 116,
   "id": "8c510975-8605-40c4-92a5-9139ef3d9db0",
   "metadata": {},
   "outputs": [
    {
     "data": {
      "application/vnd.jupyter.widget-view+json": {
       "model_id": "07f856b5e60a44bb9acf0f082b9095be",
       "version_major": 2,
       "version_minor": 0
      },
      "text/plain": [
       "Widget(value=\"<iframe src='http://localhost:61469/index.html?ui=P_0x3d17b3be0_59&reconnect=auto' style='width:…"
      ]
     },
     "metadata": {},
     "output_type": "display_data"
    }
   ],
   "source": [
    "# plot 2check cubes\n",
    "tooth_desi = get_designer_tooth(my_orderpath)\n",
    "my_plane = pv.Plane(center=anta_intx, i_size=15, j_size=15, direction=[0,1,0], j_resolution=15)\n",
    "margin_extruded = margin_line.extrude_trim(direction=[0,1,0], trim_surface=my_plane)\n",
    "\n",
    "p1 = pv.Plotter()\n",
    "\n",
    "p1.add_mesh(margin_line, line_width=5, color='r')\n",
    "p1.add_mesh(mesh_small, opacity=.8)\n",
    "\n",
    "p1.add_points(margin_line.points, render_points_as_spheres=True, color='y', point_size=7)\n",
    "\n",
    "\n",
    "# p1.add_mesh(tooth_mesh6_bool, color='w', opacity=.8)#, line_width=5, color='pink', opacity=.8)\n",
    "\n",
    "p1.add_mesh(tooth_mesh6_bool2_FIX, opacity=.8, color='w')\n",
    "\n",
    "p1.camera_position='zx'\n",
    "p1.show_grid()\n",
    "p1.show()"
   ]
  },
  {
   "cell_type": "code",
   "execution_count": 77,
   "id": "e11d4e33-40dd-48c4-b6bc-7d3da6ade861",
   "metadata": {},
   "outputs": [
    {
     "name": "stdout",
     "output_type": "stream",
     "text": [
      "get vert pos\n",
      "LOWER\n"
     ]
    }
   ],
   "source": [
    "tooth_filepath = os.path.join(tooth_dirpath_ottawa, f\"{my_case_details[1]}.stl\")\n",
    "tooth_mesh = pv.read(tooth_filepath)\n",
    "\n",
    "largest_plane = get_largest_axis_idx(mesh_prep_3m.bounds)\n",
    "if largest_plane in [0,2]:\n",
    "    if largest_plane == 2:\n",
    "        tooth_mesh1 = get_horizontal_position(mesh_prep_3m.bounds, mesh_small.centroid, tooth_mesh)\n",
    "    elif largest_plane == 0:\n",
    "        tooth_mesh1 = get_vertical_position(mesh_prep_3m.bounds, mesh_small.centroid, tooth_mesh)\n",
    "    # tooth_mesh1 = tooth_mesh.rotate_y(90, point=tooth_mesh.center).rotate_x(-15, point=tooth_mesh.center).rotate_x(-compute_angle2(mesh_small)) # EXCEPTION\n",
    "    tooth_mesh1 = tooth_mesh.rotate_y(85, point=tooth_mesh.center).rotate_z(-5, point=tooth_mesh.center)  # EXCEPTION PREPROCESS\n",
    "    tooth_mesh2 = tooth_mesh1.scale(np.full(3, 1))\n",
    "\n",
    "# tooth_mesh3 = tooth_mesh2.translate(gen_move_coords(mesh_small.centroid + np.array([-0.1,0,-0.5]), tooth_mesh2.center))"
   ]
  },
  {
   "cell_type": "code",
   "execution_count": 78,
   "id": "157c3f89-e38f-4396-b473-5f93964299bd",
   "metadata": {},
   "outputs": [
    {
     "name": "stderr",
     "output_type": "stream",
     "text": [
      "Performing Boolean Operation: 100%|████████████████████████████████[00:01<00:00]\n"
     ]
    }
   ],
   "source": [
    "# 1st boolean\n",
    "toothmesh6_ve = Mesh(tooth_mesh2)\n",
    "# my_cube5_ve = Mesh(my_cube5.rotate_x(-compute_angle2(mesh_small), point=my_margin.center))\n",
    "my_cube5_ve = Mesh(my_cube5) # NO PREPROCESS (ROTATION)\n",
    "tooth_mesh6_a = toothmesh6_ve.align_to_bounding_box(my_cube5_ve)\n",
    "tooth_mesh6_a_3m = vedo_to_trimesh(tooth_mesh6_a)\n",
    "mesh_small_pv = pv.wrap(mesh_small)\n",
    "tooth_mesh6_a_pv = pv.wrap(tooth_mesh6_a_3m).rotate_x(-compute_angle2(mesh_small), point=tooth_mesh6_a_3m.centroid)\n",
    "\n",
    "tooth_mesh6_bool = tooth_mesh6_a_pv.boolean_difference(mesh_small_pv, progress_bar=True)\n",
    "tooth_mesh6_bool1 = tooth_mesh6_bool.scale(np.full(3, 1.0))#\n",
    "tooth_mesh6_bool2 = tooth_mesh6_bool1.translate(np.subtract(tooth_mesh6_a_3m.centroid, tooth_mesh6_bool1.center))\n",
    "tooth_mesh6_bool2.save('tooth_mesh6_bool2.stl') # save into a file to preserve quality before loading to vedo"
   ]
  },
  {
   "cell_type": "code",
   "execution_count": 107,
   "id": "d1f6a3d1-3cd6-4f8d-b4d9-5e5840834a15",
   "metadata": {},
   "outputs": [],
   "source": [
    "tooth_mesh6_bool_edges = tooth_mesh6_bool.extract_feature_edges(500).extract_largest().split_bodies()[0].extract_surface()"
   ]
  },
  {
   "cell_type": "code",
   "execution_count": 19,
   "id": "251070fc-b481-488b-a6be-21fb0473f411",
   "metadata": {},
   "outputs": [
    {
     "data": {
      "text/html": [
       "<table>\n",
       "<tr>\n",
       "<td>\n",
       "<img src='data:image/png;base64,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'></img>\n",
       "</td>\n",
       "<td style='text-align: center; vertical-align: center;'><br/>\n",
       "<b><a href=\"https://vedo.embl.es/docs/vedo/mesh.html\" target=\"_blank\">vedo.mesh.Mesh</a></b><br/><code><i>(tooth_mesh6_bool2.stl)</i></code>\n",
       "<table>\n",
       "<tr><td><b> bounds </b> <br/> (x/y/z) </td><td>-4.180 ... 6.692<br/>30.57 ... 36.38<br/>2.906 ... 13.50</td></tr>\n",
       "<tr><td><b> center of mass </b></td><td>(1.33, 33.6, 8.12)</td></tr>\n",
       "<tr><td><b> average size </b></td><td>4.276</td></tr>\n",
       "<tr><td><b> nr. points&nbsp/&nbspfaces </b></td><td>16448&nbsp/&nbsp32890</td></tr>\n",
       "\n",
       "\n",
       "</table>\n",
       "</table>"
      ],
      "text/plain": [
       "<Mesh(0x107f13e90) at 0x2872e6280>"
      ]
     },
     "execution_count": 19,
     "metadata": {},
     "output_type": "execute_result"
    }
   ],
   "source": [
    "tooth_mesh6_bool2_ve = Mesh('tooth_mesh6_bool2.stl').c('w')\n",
    "tooth_mesh6_bool2_ve"
   ]
  },
  {
   "cell_type": "code",
   "execution_count": 110,
   "id": "b2f851b8-b3f3-4ae7-b1d2-e934b4187868",
   "metadata": {},
   "outputs": [],
   "source": [
    "import pymeshfix\n",
    "\n",
    "pymeshfix.clean_from_file('tooth_mesh6_bool2.stl', 'tooth_mesh6_bool2_FIX.stl')"
   ]
  },
  {
   "cell_type": "code",
   "execution_count": 112,
   "id": "75bd7cb8-f380-462a-8e04-4ab265d8c878",
   "metadata": {},
   "outputs": [],
   "source": [
    "tooth_mesh6_bool2_FIX = pv.read('tooth_mesh6_bool2_FIX.stl')"
   ]
  },
  {
   "cell_type": "code",
   "execution_count": null,
   "id": "7beda42d-1374-433e-8678-8e27add74276",
   "metadata": {},
   "outputs": [],
   "source": [
    "# using align_to to align result crown bottom edges to margin\n",
    "\n",
    "# get points included on warp\n",
    "filter_value = 9.9 # this is the threshold line of the crown that separates the moving points from the whole mesh\n",
    "srcs = []\n",
    "trgts = []\n",
    "tooth_mesh6_bool2_ve = Mesh(tooth_mesh6_bool2).c('w')\n",
    "meshdec = tooth_mesh6_bool2_ve.clone().triangulate().decimate(n=200)\n",
    "\n",
    "for pt in meshdec.points():\n",
    "    if pt[2] > filter_value:\n",
    "        srcs.append(pt)\n",
    "        trgts.append(pt)\n",
    "\n",
    "# collect the margin pts that are within the filter value\n",
    "trgts2 = []\n",
    "for pt2 in margin_line.points:\n",
    "    if pt2[2] > filter_value:\n",
    "        trgts2.append(pt2)\n",
    "\n",
    "def find_closest_point(target_point, coordinates_array):\n",
    "    target_point = np.array(target_point)\n",
    "    coordinates_array = np.array(coordinates_array)\n",
    "    distances = np.linalg.norm(coordinates_array - target_point, axis=1)\n",
    "    closest_index = np.argmin(distances)\n",
    "    closest_point = coordinates_array[closest_index]\n",
    "    return closest_point\n",
    "\n",
    "pt_reference = trgts2[10] #sample point ref from the target\n",
    "# pt_reference = np.array([2,35,13.5]) #random\n",
    "\n",
    "# get the ref point from source\n",
    "closest_pt = find_closest_point(pt_reference, srcs)\n",
    "\n",
    "srcs.append(closest_pt)\n",
    "trgts.append(pt_reference)\n",
    "\n",
    "result_edges_raw = tooth_mesh6_bool2.extract_feature_edges(120)\n",
    "result_edge_ve = Mesh(vedo.Points(pv.PolyData(result_edges_raw.extract_largest().split_bodies()[0].points)).subsample(0.04))\n",
    "result_edge_ve, "
   ]
  },
  {
   "cell_type": "code",
   "execution_count": null,
   "id": "fdef6b8d-7f80-4b4e-935c-374c44adfed0",
   "metadata": {},
   "outputs": [],
   "source": [
    "tooth_mesh6_bool2_ve"
   ]
  },
  {
   "cell_type": "code",
   "execution_count": null,
   "id": "99399bf0-10d5-4a32-a909-932833b60f9b",
   "metadata": {},
   "outputs": [],
   "source": [
    "start=time.time()\n",
    "srcs1 = list(vedo.Points(srcs).subsample(0.04).points())\n",
    "\n",
    "trgts1 = []\n",
    "for pt_ in srcs1:\n",
    "    trgts1.append(pt_)\n",
    "\n",
    "trgts1.insert(0, pt_reference)\n",
    "srcs1.insert(0, closest_pt)\n",
    "\n",
    "print(len(srcs1))\n",
    "print(len(trgts1))\n",
    "print(int(time.time()-start),'s')"
   ]
  },
  {
   "cell_type": "code",
   "execution_count": null,
   "id": "b6ffeb1d-5774-4a2c-aea4-dcc0b4ed076b",
   "metadata": {},
   "outputs": [],
   "source": [
    "# create vectors of sources\n",
    "def compute_vectors(mesh):\n",
    "    origin = tooth_mesh6_bool2.center\n",
    "    vectors = mesh.points - origin\n",
    "    vectors = vectors / np.linalg.norm(vectors, axis=1)[:, None]\n",
    "    return vectors\n",
    "\n",
    "src_mesh_pv = pv.PolyData(np.array(srcs))\n",
    "src_vectors = compute_vectors(src_mesh_pv)\n",
    "src_mesh_pv['vectors'] = src_vectors\n",
    "\n",
    "# geom = pv.Arrow()\n",
    "arrows = src_mesh_pv.glyph(\n",
    "    orient='vectors',\n",
    "    scale=False,\n",
    "    factor=0.8,\n",
    "    # geom=geom\n",
    ")"
   ]
  },
  {
   "cell_type": "code",
   "execution_count": null,
   "id": "bc77914a-021e-4952-be4b-a82832cf0ae0",
   "metadata": {},
   "outputs": [],
   "source": [
    "start_index = 24\n",
    "increment = 31\n",
    "num_points = 5  # Adjust this to the number of points you want\n",
    "\n",
    "selected_points = []\n",
    "\n",
    "for i in range(len(arrows.points)):\n",
    "    index = start_index + i * increment\n",
    "    if index < len(arrows.points):\n",
    "        selected_points.append(arrows.points[index])"
   ]
  },
  {
   "cell_type": "code",
   "execution_count": null,
   "id": "2b2cdeed-573e-4837-8d83-edf76428844a",
   "metadata": {},
   "outputs": [],
   "source": [
    "px = pv.Plotter()\n",
    "# px.add_mesh(mesh_prep_3m)\n",
    "px.add_mesh(tooth_mesh6_bool2, color='w', opacity=.8)\n",
    "# px.add_mesh(arrows, color='lightblue', opacity=.1)\n",
    "px.add_mesh(margin_line.tube(radius=.1), color='r')\n",
    "\n",
    "# px.add_points(np.array(trgts2), color='gold', point_size=15, render_points_as_spheres=True)\n",
    "# px.add_points(np.array(src_mesh_ve.points()), color='maroon', point_size=5, render_points_as_spheres=True)\n",
    "# px.add_points(np.array(arrows.points[24]), color='cyan', point_size=10, render_points_as_spheres=True)\n",
    "# px.add_points(np.array(arrows.points[55]), color='cyan', point_size=10, render_points_as_spheres=True)\n",
    "# px.add_points(np.array(selected_points), color='cyan', point_size=10, render_points_as_spheres=True)\n",
    "\n",
    "px.show_grid()\n",
    "px.camera_position='zx'\n",
    "px.show()"
   ]
  },
  {
   "cell_type": "code",
   "execution_count": null,
   "id": "a12d804a-9350-4d34-93da-46a7d2e53501",
   "metadata": {},
   "outputs": [],
   "source": [
    "start=time.time()\n",
    "warp = tooth_mesh6_bool2_ve.clone().warp(np.array(src_mesh_ve.points()), np.array(selected_points))\n",
    "# warp.c(\"blue\", 0.3).wireframe()\n",
    "warp_3m = vedo_to_trimesh(warp)\n",
    "print(int(time.time()-start),'s')"
   ]
  },
  {
   "cell_type": "code",
   "execution_count": null,
   "id": "897c0b63-8b45-4648-8b45-7bc9f06719fa",
   "metadata": {},
   "outputs": [],
   "source": [
    "def find_farthest_coordinate(coordinates_array):\n",
    "    \"\"\"\n",
    "    Find the coordinate that is farthest from the centroid of the input array.\n",
    "\n",
    "    Parameters:\n",
    "    - coordinates_array: 2D NumPy array where each row is a 3D coordinate.\n",
    "\n",
    "    Returns:\n",
    "    - farthest_coordinate: 1D NumPy array representing the farthest coordinate.\n",
    "    \"\"\"\n",
    "    # Ensure NumPy array for efficient calculations\n",
    "    coordinates_array = np.array(coordinates_array)\n",
    "\n",
    "    # Calculate the centroid of the coordinates\n",
    "    centroid = np.mean(coordinates_array, axis=0)\n",
    "\n",
    "    # Calculate the Euclidean distances from the centroid to all coordinates\n",
    "    distances = np.linalg.norm(coordinates_array - centroid, axis=1)\n",
    "\n",
    "    # Find the index of the maximum distance\n",
    "    farthest_index = np.argmax(distances)\n",
    "\n",
    "    # Get the farthest coordinate\n",
    "    farthest_coordinate = coordinates_array[farthest_index]\n",
    "\n",
    "    return farthest_coordinate\n",
    "\n"
   ]
  },
  {
   "cell_type": "code",
   "execution_count": null,
   "id": "95fa88c4-56fe-41bf-8906-1c73f68df2d1",
   "metadata": {},
   "outputs": [],
   "source": [
    "src_mesh_ve = Mesh(src_mesh_pv)\n",
    "src_mesh_ve"
   ]
  },
  {
   "cell_type": "code",
   "execution_count": null,
   "id": "db970bf5-ca76-46c5-9ac9-ed651ffbb484",
   "metadata": {},
   "outputs": [],
   "source": [
    "scaled_pts = []\n",
    "\n",
    "for i,pt in enumerate(src_mesh_ve.points()):\n",
    "    new_pt = pt * src_mesh_pv['vectors'][i]\n",
    "    scaled_pts.append(new_pt)"
   ]
  },
  {
   "cell_type": "code",
   "execution_count": null,
   "id": "af4db9bd-2270-4e85-84db-dc4dbf1cba90",
   "metadata": {},
   "outputs": [],
   "source": [
    "# using align_to to align result crown bottom edges to margin\n",
    "tooth_mesh6_bool2_ve = Mesh(tooth_mesh6_bool2)\n",
    "result_edges_raw = tooth_mesh6_bool2.extract_feature_edges(120)\n",
    "result_edge = result_edges_raw.extract_largest().split_bodies()[0]\n",
    "result_edges_ve = vedo.Points(result_edge.points).subsample(0.04)\n",
    "\n",
    "# print(len(result_edges_ve.points()))\n",
    "# print(len(margin_pts2_ve.points()))\n",
    "result_edge_mesh_ve = Mesh(result_edge)\n",
    "margin_mesh_ve = Mesh(margin_pts2_ve)\n",
    "\n",
    "srcs = [closest_pt]\n",
    "# trgts = [trgts2[10]]\n",
    "for pt in tooth_mesh6_bool2.points:\n",
    "    if pt[2] > 9.9:\n",
    "        srcs.append(pt)\n",
    "        trgts.append(pt)\n",
    "\n",
    "trgts2 = []\n",
    "for pt2 in margin_line.points:\n",
    "    if pt2[2] > 9.9:\n",
    "        trgts2.append(pt2)\n",
    "# align_result = result_edge_mesh_ve.clone().align_to(margin_mesh_ve, rigid=True).c(\"green5\").lw(5)\n",
    "warp = tooth_mesh6_bool2_ve.clone().warp(srcs, trgts)\n",
    "warp.c(\"blue\", 0.3).wireframe()\n",
    "warp_3m = vedo_to_trimesh(warp)\n",
    "\n",
    "px = pv.Plotter()\n",
    "# px.add_mesh(\n",
    "#     tooth_mesh6_bool2,\n",
    "#     color='w'\n",
    "# )\n",
    "# px.add_points(\n",
    "#     np.array(srcs),\n",
    "#     point_size=5,\n",
    "#     render_points_as_spheres=True,\n",
    "#     color='r'\n",
    "# )\n",
    "px.add_points(\n",
    "    np.array(trgts2),\n",
    "    point_size=15,\n",
    "    render_points_as_spheres=True,\n",
    "    color='gold'\n",
    ")\n",
    "\n",
    "# px.add_points(\n",
    "#     np.array(trgts2[10]),\n",
    "#     point_size=15,\n",
    "#     render_points_as_spheres=True,\n",
    "#     color='red'\n",
    "# )\n",
    "\n",
    "# px.add_points(\n",
    "#     np.array(closest_pt),\n",
    "#     point_size=15,\n",
    "#     render_points_as_spheres=True,\n",
    "#     color='green'\n",
    "# )\n",
    "px.add_mesh(warp_3m)\n",
    "px.show_grid()\n",
    "px.show()"
   ]
  },
  {
   "cell_type": "code",
   "execution_count": null,
   "id": "dda2bac5-819b-4c03-b214-f96e1c9058cf",
   "metadata": {},
   "outputs": [],
   "source": [
    "def find_closest_point(target_point, coordinates_array):\n",
    "    # Ensure NumPy arrays for efficient calculations\n",
    "    target_point = np.array(target_point)\n",
    "    coordinates_array = np.array(coordinates_array)\n",
    "\n",
    "    # Calculate the Euclidean distances between the target point and all coordinates\n",
    "    distances = np.linalg.norm(coordinates_array - target_point, axis=1)\n",
    "\n",
    "    # Find the index of the minimum distance\n",
    "    closest_index = np.argmin(distances)\n",
    "\n",
    "    # Get the closest point\n",
    "    closest_point = coordinates_array[closest_index]\n",
    "\n",
    "    return closest_point\n",
    "\n",
    "srcs = []\n",
    "trgts = []\n",
    "for pt in tooth_mesh6_bool2.points:\n",
    "    if pt[2] > 9.9:\n",
    "        srcs.append(pt)\n",
    "        trgts.append(pt)\n",
    "        \n",
    "closest_pt = find_closest_point(trgts2[9], srcs)\n",
    "\n",
    "srcs.append(closest_pt)\n",
    "trgts.append(trgts2[9])"
   ]
  },
  {
   "cell_type": "code",
   "execution_count": null,
   "id": "dc5d5f90-ef49-45fc-908d-da684429da22",
   "metadata": {},
   "outputs": [],
   "source": []
  },
  {
   "cell_type": "code",
   "execution_count": null,
   "id": "123cdbde-2038-439e-8bf6-89b0a4f717d1",
   "metadata": {},
   "outputs": [],
   "source": [
    "warp = tooth_mesh6_bool2_ve.clone().warp(srcs, trgts)\n",
    "warp.c(\"blue\", 0.3).wireframe()\n",
    "warp_3m = vedo_to_trimesh(warp)"
   ]
  },
  {
   "cell_type": "code",
   "execution_count": null,
   "id": "1d87fc4f-b8d8-4076-a243-0a6e8f6b2336",
   "metadata": {},
   "outputs": [],
   "source": [
    "px = pv.Plotter()\n",
    "px.add_mesh(\n",
    "    tooth_mesh6_bool2,\n",
    "    color='w'\n",
    ")\n",
    "px.add_points(\n",
    "    np.array(srcs),\n",
    "    point_size=5,\n",
    "    render_points_as_spheres=True,\n",
    "    color='r'\n",
    ")\n",
    "px.add_points(\n",
    "    np.array(trgts2),\n",
    "    point_size=15,\n",
    "    render_points_as_spheres=True,\n",
    "    color='gold'\n",
    ")\n",
    "\n",
    "px.add_points(\n",
    "    np.array(trgts2[9]),\n",
    "    point_size=15,\n",
    "    render_points_as_spheres=True,\n",
    "    color='red'\n",
    ")\n",
    "\n",
    "px.add_points(\n",
    "    np.array(closest_pt),\n",
    "    point_size=15,\n",
    "    render_points_as_spheres=True,\n",
    "    color='green'\n",
    ")\n",
    "# px.add_mesh(warp_3m)\n",
    "px.show_grid()\n",
    "px.show()"
   ]
  },
  {
   "cell_type": "code",
   "execution_count": null,
   "id": "66f029ca-9247-4063-bdc1-3ed6d8ba1a24",
   "metadata": {},
   "outputs": [],
   "source": [
    "\"\"\"Warp a region of a mesh using Thin Plate Splines.\n",
    "Red points stay fixed while a single point in space\n",
    "moves as the arrow indicates.\"\"\"\n",
    "from vedo import *\n",
    "\n",
    "settings.use_depth_peeling = True\n",
    "mesh = Mesh(dataurl+\"man.vtk\").color('w')\n",
    "\n",
    "# a heavily decimated copy with about 200 points\n",
    "meshdec = mesh.clone().triangulate().decimate(n=200)\n",
    "\n",
    "sources = [[0.9, 0.0, 0.2]]  # this point moves\n",
    "targets = [[1.2, 0.0, 0.4]]  # ...to this.\n",
    "for pt in meshdec.points():\n",
    "    if pt[0] < 0.3:          # these pts don't move\n",
    "        sources.append(pt)   # (e.i. source = target)\n",
    "        targets.append(pt)\n",
    "arrow = Arrows(sources, targets)\n",
    "apts = Points(sources).c(\"red\")\n",
    "\n",
    "warp = mesh.clone().warp(sources, targets)\n",
    "warp.c(\"blue\", 0.3).wireframe()\n",
    "\n",
    "sphere = Sphere(r=0.3).pos(1,0,-.50)\n",
    "sphere.apply_transform(warp.transform)\n",
    "# print(warp.transform)"
   ]
  },
  {
   "cell_type": "code",
   "execution_count": null,
   "id": "59cb1802-d9d5-417d-9926-e29e8671634a",
   "metadata": {},
   "outputs": [],
   "source": [
    "# check first process plot\n",
    "p2 = pv.Plotter()\n",
    "p2.add_mesh(mesh_prep_3m)\n",
    "p2.add_mesh(tooth_mesh6_a_3m, color='w')\n",
    "p2.show_grid()\n",
    "p2.camera_position='zx'\n",
    "p2.show()"
   ]
  },
  {
   "cell_type": "code",
   "execution_count": null,
   "id": "328ee60a-ecbe-4490-a37a-1443cc1475c2",
   "metadata": {},
   "outputs": [],
   "source": [
    "tooth_mesh6_a_pv = pv.wrap(tooth_mesh6_a_3m).rotate_x(-compute_angle2(mesh_small), point=tooth_mesh6_a_3m.centroid)\n",
    "margin_line_extuded = margin_line.extrude()\n",
    "p3 = pv.Plotter()\n",
    "p3.add_mesh(mesh_prep_3m)\n",
    "p3.add_mesh(tooth_mesh6_a_pv, color='w')\n",
    "p3.show_grid()\n",
    "p3.camera_position='zx'\n",
    "p3.show()"
   ]
  },
  {
   "cell_type": "code",
   "execution_count": null,
   "id": "787d0a81-de77-47d6-ac78-948a6f8c5887",
   "metadata": {},
   "outputs": [],
   "source": [
    "# boolean\n",
    "result_crown = pv.wrap(tooth_mesh6_a_3m).boolean_difference(pv.wrap(mesh_small), progress_bar=True)"
   ]
  },
  {
   "cell_type": "code",
   "execution_count": null,
   "id": "fcbbebd2-74ea-4b10-955f-3002fdfedff5",
   "metadata": {},
   "outputs": [],
   "source": [
    "# reposition processed crown using center-center\n",
    "\n"
   ]
  },
  {
   "cell_type": "code",
   "execution_count": null,
   "id": "adebb749-4547-44d8-8b53-d4c8a84aa3c9",
   "metadata": {},
   "outputs": [],
   "source": [
    "# plot 2check cubes\n",
    "tooth_desi = get_designer_tooth(my_orderpath)\n",
    "p2 = pv.Plotter()\n",
    "p2.add_mesh(mesh_anta_surfs, line_width=5, color='r', point_size=5, render_points_as_spheres=True)\n",
    "p2.add_mesh(my_cube5, \n",
    "            style='wireframe',\n",
    "            opacity=.8,\n",
    "            line_width=5, color='lightgreen')\n",
    "\n",
    "p2.add_mesh(adj_line1, line_width=5, color='blue')\n",
    "p2.add_mesh(adj_line2, line_width=5, color='blue')\n",
    "p2.add_mesh(mesh_small)\n",
    "# p2.add_mesh(mesh_anta_3m)\n",
    "p2.add_mesh(result_crown,color='w')\n",
    "# p2.add_mesh(mesh_small , opacity=.5)\n",
    "# p2.add_mesh(tooth_mesh6_a_3m, color='w', opacity=.5)\n",
    "\n",
    "p2.camera_position='zx'\n",
    "p2.show_grid()\n",
    "p2.show()"
   ]
  },
  {
   "cell_type": "code",
   "execution_count": null,
   "id": "b77fa356-b2b0-4757-b3c0-021fec3bccac",
   "metadata": {},
   "outputs": [],
   "source": [
    "bool1 = pv.read('bool1.stl')\n",
    "bool1.boolean_difference('')"
   ]
  },
  {
   "cell_type": "code",
   "execution_count": null,
   "id": "705b2ecf-79e2-4c89-8b10-f9aed0abff0f",
   "metadata": {},
   "outputs": [],
   "source": [
    "bool1_ve = Mesh(bool1)\n",
    "margin_mesh_ve = Mesh(margin_line.delaunay_2d())\n",
    "bool2 = bool1_ve.cut_with_mesh(margin_mesh_ve)\n",
    "bool2`"
   ]
  },
  {
   "cell_type": "code",
   "execution_count": null,
   "id": "fa1cbe9d-dedd-4a6c-9fc0-671934b9629b",
   "metadata": {},
   "outputs": [],
   "source": [
    "pv.wrap(vedo_to_trimesh(bool2)).plot()"
   ]
  },
  {
   "cell_type": "code",
   "execution_count": null,
   "id": "52f23ac9-25e8-459c-b7d6-c4ab3bc82ffd",
   "metadata": {},
   "outputs": [],
   "source": [
    "p3 = pv.Plotter()\n",
    "p3.add_mesh(tooth_mesh6_bool.split_bodies()[0].extract_surface().fill_holes(1), color='w')\n",
    "p3.add_points(np.array(margin_pts_dsamp.points()), point_size=10, color='r', render_points_as_spheres=True)\n",
    "p3.add_mesh(margin_line)\n",
    "\n",
    "p3.camera_position='zx'\n",
    "p3.show()"
   ]
  },
  {
   "cell_type": "code",
   "execution_count": null,
   "id": "d2524196-e78b-4306-8932-b642cbdf850c",
   "metadata": {},
   "outputs": [],
   "source": [
    "tooth_mesh6_bool2 = tooth_mesh6_bool.split_bodies()[0].extract_surface().fill_holes(5)\n",
    "tooth_mesh6_bool2.extract_feature_edges(200).plot()"
   ]
  },
  {
   "cell_type": "code",
   "execution_count": null,
   "id": "b665d027-1112-4321-93b3-b6a3c66d6d26",
   "metadata": {},
   "outputs": [],
   "source": [
    "tooth_mesh6_bool.split_bodies()[0].extract_surface().fill_holes(1).n_faces/3"
   ]
  },
  {
   "cell_type": "code",
   "execution_count": null,
   "id": "8efaee08-54b9-4cc9-8987-25fdd3c506a4",
   "metadata": {},
   "outputs": [],
   "source": [
    "v = np.array(tooth_mesh6_bool.split_bodies()[0].extract_surface().points)\n",
    "f = np.array(tooth_mesh6_bool.split_bodies()[0].extract_surface().faces)\n",
    "\n",
    "# Ensure that the length of f is a multiple of 3\n",
    "remainder = len(f) % 3\n",
    "if remainder != 0:\n",
    "    # Truncate or pad f to make it a multiple of 3\n",
    "    f = f[:len(f) - remainder]\n",
    "\n",
    "# Calculate the number of faces based on the length of f\n",
    "n_faces = len(f) // 3\n",
    "f_reshaped = f.reshape((n_faces, 3))\n",
    "meshfix = pymeshfix.MeshFix(v, f_reshaped)"
   ]
  },
  {
   "cell_type": "code",
   "execution_count": null,
   "id": "b4dce46b-8a88-4162-bf12-ea5f8bc81f50",
   "metadata": {},
   "outputs": [],
   "source": [
    "meshfix.repair()"
   ]
  },
  {
   "cell_type": "code",
   "execution_count": null,
   "id": "beb366a8-99df-4133-9adf-e15448402536",
   "metadata": {},
   "outputs": [],
   "source": [
    "import pymeshfix\n",
    "v = tooth_mesh6_bool.split_bodies()[0].extract_surface().fill_holes(1).points[:-1]\n",
    "f = tooth_mesh6_bool.split_bodies()[0].extract_surface().fill_holes(1).faces\n",
    "n_faces = int(len(v)/3)\n",
    "f_reshaped = f.reshape((n_faces, 3))\n",
    "meshfix = pymeshfix.MeshFix(v, f)\n",
    "\n",
    "# Plot input\n",
    "meshfix.plot()"
   ]
  },
  {
   "cell_type": "code",
   "execution_count": null,
   "id": "6c643131-a4df-41d0-9eed-04fb18cd22cd",
   "metadata": {},
   "outputs": [],
   "source": [
    "tooth_desi = get_designer_tooth(my_orderpath)\n",
    "tooth_desi.save('tooth_desi.stl')"
   ]
  },
  {
   "cell_type": "code",
   "execution_count": null,
   "id": "bba933f1-9e88-488e-9ad8-689ddd9699ff",
   "metadata": {},
   "outputs": [],
   "source": [
    "tooth_desi = get_designer_tooth(my_orderpath)\n",
    "height_offset = 0.75\n",
    "tooth_mesh4 = tooth_mesh3.scale(np.full(3, 1.15))\n",
    "# tooth_mesh5 = tooth_mesh4.translate(gen_move_coords(mesh_small.centroid + np.array([-.20, 0, -0.45]), tooth_mesh4.center))\n",
    "tooth_mesh5 = tooth_mesh4.translate(gen_move_coords(mesh_small.centroid, tooth_mesh4.center))\n",
    "tooth_mesh6 = tooth_mesh5.scale(np.full(3, 1.001))\n",
    "# tooth_mesh6 = tooth_mesh6.translate(gen_move_coords(mesh_small.centroid + np.array([-.08, 0, -0.55]), tooth_mesh6.center))\n",
    "tooth_mesh6 = tooth_mesh6.translate(gen_move_coords(mesh_small.centroid, tooth_mesh6.center))"
   ]
  },
  {
   "cell_type": "code",
   "execution_count": null,
   "id": "f91974df-f941-4a11-9b1d-3212be03f9f6",
   "metadata": {},
   "outputs": [],
   "source": [
    "tooth_filepath = os.path.join(tooth_dirpath_ottawa, f\"{my_case_details[1]}.stl\")\n",
    "tooth_mesh = pv.read(tooth_filepath)\n",
    "test_crown = tooth_mesh.rotate_y(90, point=tooth_mesh.center).rotate_x(-compute_angle2(mesh_small), point=tooth_mesh.center).translate(gen_move_coords(mesh_small.centroid, tooth_mesh.center))"
   ]
  },
  {
   "cell_type": "code",
   "execution_count": null,
   "id": "239c0173-80f6-4388-bb1a-9e915a909163",
   "metadata": {},
   "outputs": [],
   "source": [
    "# Create a circular shape (e.g., a circle)\n",
    "theta = np.linspace(0, 2 * np.pi, 100)\n",
    "x = np.cos(theta)\n",
    "y = np.sin(theta)\n",
    "z = np.zeros_like(theta)\n",
    "\n",
    "# Create a PolyData object from the circle\n",
    "circle = pv.PolyData(np.column_stack((x, y, z)))\n",
    "marg_pts = pv.PolyData(margin_pts2_ve.points())\n",
    "# Create a surface mesh from the circle\n",
    "surface_mesh = circle.extrude([0, 0, 1])\n",
    "marg_mesh = marg_pts.extrude([0,1,0])\n",
    "# Create a tube around the surface mesh\n",
    "# tube = surface_mesh.tube(radius=0.1, capping=True)\n",
    "marg_tubed = marg_mesh.tube(radius=0.8, capping=True)\n",
    "\n",
    "# Plot the result\n",
    "p0=pv.Plotter()\n",
    "\n",
    "p0.add_mesh(marg_tubed)\n",
    "p0.add_mesh(tooth_mesh8, color='w')\n",
    "p0.add_points(marg_pts, color='r', point_size=10, render_points_as_spheres=True)\n",
    "p0.show()\n"
   ]
  },
  {
   "cell_type": "code",
   "execution_count": null,
   "id": "a80e4da1-028d-4f11-b0a1-94ce2b460697",
   "metadata": {},
   "outputs": [],
   "source": [
    "import pyvista as pv\n",
    "import numpy as np\n",
    "\n",
    "# Create a circular shape (e.g., a circle)\n",
    "theta = np.linspace(0, 2 * np.pi, 100)\n",
    "x = np.cos(theta)\n",
    "y = np.sin(theta)\n",
    "z = np.zeros_like(theta)\n",
    "\n",
    "# Create a PolyData object from the circle\n",
    "circle = pv.PolyData(np.column_stack((x, y, z)))\n",
    "\n",
    "# Create a surface mesh from the circle\n",
    "surface_mesh = circle.extrude([0, 0, 1])\n",
    "\n",
    "# Create a tube around the surface mesh\n",
    "tube = surface_mesh.tube(radius=0.1, capping=False)\n",
    "\n",
    "# Plot the result\n",
    "p0 = pv.Plotter()\n",
    "p0.add_points(tube.points, color='r', render_points_as_spheres=True, point_size=3)\n",
    "p0.show()\n"
   ]
  },
  {
   "cell_type": "code",
   "execution_count": null,
   "id": "c7770460-463a-48ab-9133-bb16850c9695",
   "metadata": {},
   "outputs": [],
   "source": [
    "margin_line.tube(radius=0.1).plot()"
   ]
  },
  {
   "cell_type": "code",
   "execution_count": null,
   "id": "aa315b09-d094-417c-adee-4358e651e493",
   "metadata": {},
   "outputs": [],
   "source": [
    "def interpolate_line(point1, point2, num_points=100):\n",
    "    # Linearly interpolate between the two points\n",
    "    t = np.linspace(0, 1, num_points)\n",
    "    interpolated_points = (1 - t)[:, np.newaxis] * point1 + t[:, np.newaxis] * point2\n",
    "    return interpolated_points\n",
    "\n",
    "interpolated_line = interpolate_linev"
   ]
  },
  {
   "cell_type": "code",
   "execution_count": null,
   "id": "b0c88632-2599-4b05-b9bc-c4ce3f440478",
   "metadata": {},
   "outputs": [],
   "source": [
    "import numpy as np\n",
    "import pyvista\n",
    "\n",
    "n = 1000\n",
    "theta = np.linspace(-10 * np.pi, 10 * np.pi, n)\n",
    "z = np.linspace(-2, 2, n)\n",
    "r = z**2 + 1\n",
    "x = r * np.sin(theta)\n",
    "y = r * np.cos(theta)\n",
    "points = np.column_stack((x, y, z))\n",
    "\n",
    "# Create line connectivity\n",
    "lines = np.column_stack((range(n - 1), range(1, n)))\n",
    "\n",
    "pdata = pyvista.PolyData(points)\n",
    "pdata.lines = lines\n",
    "pdata['distance'] = range(n)\n",
    "ribbon = pdata.ribbon(width=0.2)\n",
    "ribbon.plot(show_scalar_bar=False)\n"
   ]
  },
  {
   "cell_type": "code",
   "execution_count": null,
   "id": "980de280-50a6-4500-a1bf-ba6718bbfdf8",
   "metadata": {},
   "outputs": [],
   "source": [
    "import trimesh\n",
    "\n",
    "my_meshes = []\n",
    "extrude_3m = trimesh.load('tooth_extrude.stl', file='stl')\n",
    "my_meshes.append(extrude_3m)\n",
    "my_meshes.append(mesh_small)"
   ]
  },
  {
   "cell_type": "code",
   "execution_count": null,
   "id": "bf383cac-788c-41d8-87ab-a8d6b21e0477",
   "metadata": {},
   "outputs": [],
   "source": [
    "result = trimesh.boolean.difference(my_meshes)"
   ]
  },
  {
   "cell_type": "code",
   "execution_count": null,
   "id": "3ce40af9-a637-4de8-8910-8a9eb61534d2",
   "metadata": {},
   "outputs": [],
   "source": [
    "def extrude(polyline):\n",
    "    return polyline.ribbon(normal=(0,0,1))\n",
    "\n",
    "\n",
    "p = pv.Plotter(notebook=False)\n",
    "\n",
    "def extrude_and_show(polyline):\n",
    "    surface = extrude(polyline)\n",
    "    p.add_mesh(surface, color=\"pink\", name=\"mysurf\")\n",
    "\n",
    "p.add_spline_widget(extrude_and_show)\n",
    "p.show_axes()\n",
    "p.show()"
   ]
  },
  {
   "cell_type": "code",
   "execution_count": null,
   "id": "e2911f97-ba46-4de8-becc-0c918eb317e0",
   "metadata": {},
   "outputs": [],
   "source": [
    "import pymeshfix as mf\n",
    "\n",
    "meshfix = mf.MeshFix()"
   ]
  },
  {
   "cell_type": "code",
   "execution_count": null,
   "id": "065b4b01-3983-4cbf-96f8-f25935278621",
   "metadata": {},
   "outputs": [],
   "source": [
    "start = time.time()\n",
    "result_3m = vedo_to_trimesh(result_ve)\n",
    "result_pv = pv.wrap(result_3m).translate(gen_move_coords(my_cube5.center, result_3m.centroid))\n",
    "result2_pv = result_pv.boolean_difference(pv.wrap(mesh_small)).fill_holes(5)\n",
    "print(int(time.time()-start),'s')"
   ]
  },
  {
   "cell_type": "code",
   "execution_count": null,
   "id": "ab5f248d-576c-438d-a718-df127e666012",
   "metadata": {},
   "outputs": [],
   "source": [
    "margin_pts_dsamp_mesh = pv.PolyData(margin_pts_dsamp.points()).delaunay_2d()\n",
    "margin_pts_dsamp_mesh.plot(show_grid=True, cpos='iso')"
   ]
  },
  {
   "cell_type": "code",
   "execution_count": null,
   "id": "c352fe0f-1cfd-44fc-830b-e09821e15b7d",
   "metadata": {},
   "outputs": [],
   "source": [
    "tp = pv.Plotter()\n",
    "tp.add_mesh(test2)\n",
    "tp.add_mesh(margin_pts_dsamp_mesh, color='r')\n",
    "tp.show_grid()\n",
    "tp.camera_position='zx'\n",
    "tp.show()"
   ]
  },
  {
   "cell_type": "code",
   "execution_count": null,
   "id": "5216e171-cf4f-4d6d-ad5d-1c485452036d",
   "metadata": {},
   "outputs": [],
   "source": [
    "plane = pv.Plane(center=(0, 0, 1), i_size=2, j_size=0.2, direction=[1, 1, 1], j_resolution=1)\n",
    "line = pv.Line()\n",
    "extruded_line = line.extrude_trim((0, 0, 1), plane)\n",
    "pl = pv.Plotter()\n",
    "pl.add_mesh(line, style='wireframe', line_width=20, show_scalar_bar=False, color='r')\n",
    "pl.add_mesh(plane, \n",
    "            # style='wireframe', \n",
    "            color='black', \n",
    "            show_scalar_bar=False)\n",
    "pl.add_mesh(extruded_line, show_scalar_bar=False, lighting=False)\n",
    "pl.show()"
   ]
  },
  {
   "cell_type": "code",
   "execution_count": null,
   "id": "b36f70f0-3b76-47f8-b583-9c64bed64852",
   "metadata": {},
   "outputs": [],
   "source": [
    "base_edge = pv.wrap(mesh_small).extract_feature_edges(90)"
   ]
  },
  {
   "cell_type": "code",
   "execution_count": null,
   "id": "80a16ffd-dec7-440a-b321-bf23d168f7f9",
   "metadata": {},
   "outputs": [],
   "source": [
    "point2 = np.array(margin_mesh_pv.center)\n",
    "point1 = np.array(base_edge.center)\n",
    "np.linalg.norm(point1 - point2)"
   ]
  },
  {
   "cell_type": "code",
   "execution_count": null,
   "id": "273b012b-5923-455e-8f2a-e539300be1d2",
   "metadata": {},
   "outputs": [],
   "source": [
    "# tooth libr\n",
    "my_case_details = get_toothnum(my_orderpath)\n",
    "tooth_filepath = os.path.join(tooth_dirpath_ottawa, f\"{my_case_details[1]}.stl\")\n",
    "tooth_mesh = pv.read(tooth_filepath)\n",
    "largest_plane = get_largest_axis_idx(mesh_prep_3m.bounds)\n",
    "if largest_plane in [0,2]:\n",
    "    if largest_plane == 2:\n",
    "        tooth_mesh1 = get_horizontal_position(mesh_prep_3m.bounds, margin_mesh_pv.center, tooth_mesh)\n",
    "    elif largest_plane == 0:\n",
    "        tooth_mesh1 = get_vertical_position(mesh_prep_3m.bounds, margin_mesh_pv.center, tooth_mesh)\n",
    "    tooth_mesh2 = tooth_mesh1.scale(np.full(3, 1))\n",
    "    tooth_mesh3 = tooth_mesh2.translate(gen_move_coords(margin_mesh_pv.center, tooth_mesh2.center))"
   ]
  },
  {
   "cell_type": "code",
   "execution_count": null,
   "id": "55f306a5-4da7-493d-a11b-e756b5e68c68",
   "metadata": {},
   "outputs": [],
   "source": [
    "np.full(3, 1.12)"
   ]
  },
  {
   "cell_type": "code",
   "execution_count": null,
   "id": "fced40a2-cfd0-42dd-b7a7-9caea4763b6c",
   "metadata": {},
   "outputs": [],
   "source": [
    "tooth_mesh4 = tooth_mesh3.scale(np.full(3, 1.15)).translate(gen_move_coords(margin_mesh_pv.center, tooth_mesh3.center))"
   ]
  },
  {
   "cell_type": "code",
   "execution_count": null,
   "id": "a3ce9cf7-ffd0-4c32-a12b-e5cd1223b54e",
   "metadata": {},
   "outputs": [],
   "source": [
    "tooth_mesh4 =tooth_mesh4.translate(gen_move_coords(margin_mesh_pv.center, tooth_mesh4.center))"
   ]
  },
  {
   "cell_type": "code",
   "execution_count": null,
   "id": "49d4f2e5-81d5-4a67-93ba-7d08eaeace87",
   "metadata": {},
   "outputs": [],
   "source": [
    "col, n_contacts = margin_mesh_pv.collision(tooth_mesh3)\n",
    "collision_mask = np.zeros(margin_mesh_pv.n_cells, dtype=bool)\n",
    "collision_mask[col[\"ContactCells\"]] = True\n",
    "margin_mesh_pv[\"collisions\"] = collision_mask"
   ]
  },
  {
   "cell_type": "code",
   "execution_count": null,
   "id": "1cd005b5-390c-4c29-9c34-944fd3fc3801",
   "metadata": {},
   "outputs": [],
   "source": [
    "col1, n_contacts1 = tooth_mesh3.collision(margin_mesh_pv)\n",
    "collision_mask1 = np.zeros(tooth_mesh3.n_cells, dtype=bool)\n",
    "collision_mask1[col1[\"ContactCells\"]] = True\n",
    "tooth_mesh3[\"collisions\"] = collision_mask1"
   ]
  },
  {
   "cell_type": "code",
   "execution_count": null,
   "id": "1cc031fc-3547-40fa-b81e-1214734bebbb",
   "metadata": {},
   "outputs": [],
   "source": [
    "tooth_mesh3.plot(opacity=.8)"
   ]
  },
  {
   "cell_type": "code",
   "execution_count": null,
   "id": "789e35ee-0e7c-4b28-b3f1-56895ccba515",
   "metadata": {},
   "outputs": [],
   "source": [
    "test_npy = np.load('/Users/nimbyx/Downloads/splines.npy', allow_pickle=True)\n",
    "type(test_npy)"
   ]
  },
  {
   "cell_type": "code",
   "execution_count": null,
   "id": "501cd957-309d-49ca-b558-2e58a2ee9c94",
   "metadata": {},
   "outputs": [],
   "source": [
    "limb = Mesh(dataurl + \"270.vtk\").c(\"gold\")\n",
    "rim = Mesh(dataurl + \"270_rim.vtk\").c(\"red5\").lw(4)\n",
    "\n",
    "limb"
   ]
  },
  {
   "cell_type": "code",
   "execution_count": null,
   "id": "b7fa5ed1-b244-46d5-a803-e32b0a45dfd6",
   "metadata": {},
   "outputs": [],
   "source": [
    "rim"
   ]
  },
  {
   "cell_type": "code",
   "execution_count": null,
   "id": "5b8cf396-4782-4c53-9040-0480a6eb3490",
   "metadata": {},
   "outputs": [],
   "source": [
    "rim2 = rim.clone().align_to(limb, rigid=True).c(\"green5\").lw(5)\n",
    "rim2"
   ]
  },
  {
   "cell_type": "code",
   "execution_count": null,
   "id": "2bcc50ff-76e3-49c4-971b-d89f648bf973",
   "metadata": {},
   "outputs": [],
   "source": [
    "d = 0\n",
    "for p in rim2.points():\n",
    "    cpt = limb.closest_point(p)\n",
    "    d += mag2(p - cpt)  # square of residual distance\n",
    "average_squared_distance = d / rim2.npoints\n",
    "\n",
    "# Print the average squared distance between the aligned rim and the limb\n",
    "printc(\"Average squared distance =\", average_squared_distance, c=\"g\")\n",
    "\n",
    "show(limb, rim, rim2, __doc__, axes=1)"
   ]
  },
  {
   "cell_type": "code",
   "execution_count": null,
   "id": "95690cc6-c429-4897-8018-234fd03d67e4",
   "metadata": {},
   "outputs": [],
   "source": [
    "show(cube, viewup='z')"
   ]
  },
  {
   "cell_type": "code",
   "execution_count": null,
   "id": "c3ea2218-da0a-44e6-998b-8bf77dc0f879",
   "metadata": {},
   "outputs": [],
   "source": [
    "show(msh1, axes2, viewup='z')"
   ]
  },
  {
   "cell_type": "code",
   "execution_count": null,
   "id": "44d3b51c-ac20-449d-a34f-55d0d9402af4",
   "metadata": {},
   "outputs": [],
   "source": [
    "np.array(msh1.faces())"
   ]
  },
  {
   "cell_type": "code",
   "execution_count": null,
   "id": "2f88c82b-e2e0-4d89-a4dc-9545f8d31518",
   "metadata": {},
   "outputs": [],
   "source": [
    "# Create a triangle.\n",
    "disc = pv.Disc(c_res=3, r_res=4, inner=0)\n",
    "plane = pv.Plane(\n",
    "    center=(disc.center[0], disc.center[1], -1),\n",
    "    direction=(0, 0, -1),\n",
    "    i_size=1,\n",
    "    j_size=1,\n",
    ")\n",
    "\n",
    "# extrude with and without the all_edges option\n",
    "extruded_disc = disc.extrude_trim((0, 0, -1.0), plane)\n",
    "extruded_disc_all = disc.extrude_trim((0, 0, -1.0), plane, extrusion='all_edges')\n",
    "print(f'Extrusion has {extruded_disc.n_faces} faces with default boundary_edges')\n",
    "print(f'Extrusion has {extruded_disc_all.n_faces} faces with all_edges')\n",
    "pl = pv.Plotter(shape=(1, 2))\n",
    "pl.add_mesh(extruded_disc, style='wireframe', line_width=5)\n",
    "pl.add_text('Extrude with boundary_edges')\n",
    "\n",
    "pl.subplot(0, 1)\n",
    "pl.add_mesh(extruded_disc_all, style='wireframe', line_width=5)\n",
    "pl.add_text('Extrude with all_edges')\n",
    "\n",
    "pl.link_views()\n",
    "pl.camera_position = 'iso'\n",
    "pl.camera.zoom(1.3)\n",
    "pl.show()"
   ]
  },
  {
   "cell_type": "code",
   "execution_count": null,
   "id": "5ae8b117-0731-4602-8127-7e25ddb64e22",
   "metadata": {},
   "outputs": [],
   "source": [
    "pv.PolyData(pv.read('/Users/nimbyx/Downloads/mesh.ply').points).plot()"
   ]
  },
  {
   "cell_type": "code",
   "execution_count": null,
   "id": "3123a4bd-628f-49dc-b774-abc160a94ca9",
   "metadata": {
    "scrolled": true
   },
   "outputs": [],
   "source": [
    "\"\"\"Align 2 shapes:\n",
    "the red line to the yellow surface\"\"\"\n",
    "from vedo import *\n",
    "\n",
    "# Load two mesh objects, a limb and a rim, and color them gold and red\n",
    "limb = Mesh(dataurl + \"270.vtk\").c(\"gold\")\n",
    "rim = Mesh(dataurl + \"270_rim.vtk\").c(\"red5\").lw(4)\n",
    "\n",
    "# Make a clone copy of the rim and align it to the limb\n",
    "# Using rigid=True does not allow scaling\n",
    "rim2 = rim.clone().align_to(limb, rigid=True).c(\"green5\").lw(5)\n",
    "\n",
    "# Calculate the average squared distance between the aligned rim and the limb\n",
    "d = 0\n",
    "for p in rim2.points():\n",
    "    cpt = limb.closest_point(p)\n",
    "    d += mag2(p - cpt)  # square of residual distance\n",
    "average_squared_distance = d / rim2.npoints\n",
    "\n",
    "# Print the average squared distance between the aligned rim and the limb\n",
    "printc(\"Average squared distance =\", average_squared_distance, c=\"g\")\n",
    "\n",
    "# show(limb, rim, rim2, __doc__, axes=1)\n",
    "show(rim, axes=1)"
   ]
  },
  {
   "cell_type": "code",
   "execution_count": null,
   "id": "a25b6e7b-1ef7-40e7-b76e-a9fb5ba452bb",
   "metadata": {},
   "outputs": [],
   "source": [
    "test_mesh = vedo_to_trimesh(limb)\n",
    "test_mesh2 = vedo_to_trimesh(rim)\n",
    "test_mesh3 = vedo_to_trimesh(rim2)\n",
    "p1 = pv.Plotter()\n",
    "# p1.add_mesh(test_mesh)\n",
    "p1.add_points(test_mesh2.vertices, point_size=10, color='r')\n",
    "p1.add_points(test_mesh3.vertices, point_size=10, color='green')\n",
    "p1.show_grid()\n",
    "p1.show()"
   ]
  },
  {
   "cell_type": "code",
   "execution_count": null,
   "id": "e72ace27-6a31-46b4-b18b-ee60b6b43fbf",
   "metadata": {},
   "outputs": [],
   "source": []
  }
 ],
 "metadata": {
  "kernelspec": {
   "display_name": "Python 3 (ipykernel)",
   "language": "python",
   "name": "python3"
  },
  "language_info": {
   "codemirror_mode": {
    "name": "ipython",
    "version": 3
   },
   "file_extension": ".py",
   "mimetype": "text/x-python",
   "name": "python",
   "nbconvert_exporter": "python",
   "pygments_lexer": "ipython3",
   "version": "3.9.10"
  }
 },
 "nbformat": 4,
 "nbformat_minor": 5
}
